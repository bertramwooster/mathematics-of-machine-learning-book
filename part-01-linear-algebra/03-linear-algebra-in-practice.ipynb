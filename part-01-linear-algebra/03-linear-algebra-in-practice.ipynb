{
 "cells": [
  {
   "cell_type": "markdown",
   "id": "1d23bbea",
   "metadata": {},
   "source": [
    "# Chapter 3. Linear algebra in practice"
   ]
  },
  {
   "cell_type": "code",
   "execution_count": null,
   "id": "c0b40c5b",
   "metadata": {},
   "outputs": [],
   "source": [
    "import numpy as np\n",
    "\n",
    "x = np.array([1.8, -4.5, 9.2, 7.3])\n",
    "y = np.array([-5.2, -1.1, 0.7, 5.1])"
   ]
  },
  {
   "cell_type": "code",
   "execution_count": null,
   "id": "1480b428",
   "metadata": {},
   "outputs": [],
   "source": [
    "def add(x: np.ndarray, y: np.ndarray):\n",
    "    x_plus_y = np.zeros(shape=len(x))\n",
    "    \n",
    "    for i in range(len(x_plus_y)):\n",
    "        x_plus_y[i] = x[i] + y[i]\n",
    "        \n",
    "    return x_plus_y"
   ]
  },
  {
   "cell_type": "code",
   "execution_count": null,
   "id": "2f45dd0e",
   "metadata": {},
   "outputs": [],
   "source": [
    "add(x, y)\n",
    "#add?"
   ]
  },
  {
   "cell_type": "code",
   "execution_count": null,
   "id": "cafdc716",
   "metadata": {},
   "outputs": [],
   "source": [
    "np.equal(x + y, add(x, y))"
   ]
  },
  {
   "cell_type": "code",
   "execution_count": null,
   "id": "99240d81",
   "metadata": {},
   "outputs": [],
   "source": [
    "1.0 == 0.3*3 + 0.1"
   ]
  },
  {
   "cell_type": "code",
   "execution_count": null,
   "id": "525b033d",
   "metadata": {},
   "outputs": [],
   "source": [
    "0.3*3 + 0.1"
   ]
  },
  {
   "cell_type": "code",
   "execution_count": null,
   "id": "891032b1",
   "metadata": {},
   "outputs": [],
   "source": [
    "all(np.equal(x + y, add(x, y)))"
   ]
  },
  {
   "cell_type": "markdown",
   "id": "b0eabeae",
   "metadata": {},
   "source": [
    "## Vectors in NumPy"
   ]
  },
  {
   "cell_type": "code",
   "execution_count": null,
   "id": "e1bca845",
   "metadata": {},
   "outputs": [],
   "source": [
    "def just_a_quadratic_polynomial(x):\n",
    "    return 3*x**2 + 1"
   ]
  },
  {
   "cell_type": "code",
   "execution_count": null,
   "id": "1f635599",
   "metadata": {},
   "outputs": [],
   "source": [
    "x = np.array([1.8, -4.5, 9.2, 7.3])\n",
    "just_a_quadratic_polynomial(x)"
   ]
  },
  {
   "cell_type": "code",
   "execution_count": null,
   "id": "eb1c3329",
   "metadata": {},
   "outputs": [],
   "source": [
    "from math import exp\n",
    "\n",
    "exp(x)"
   ]
  },
  {
   "cell_type": "code",
   "execution_count": null,
   "id": "349ebd94",
   "metadata": {},
   "outputs": [],
   "source": [
    "def naive_exp(x: np.ndarray):\n",
    "    x_exp = np.empty_like(x)\n",
    "    \n",
    "    for i in range(len(x)):\n",
    "        x_exp[i] = exp(x[i])\n",
    "        \n",
    "    return x_exp"
   ]
  },
  {
   "cell_type": "code",
   "execution_count": null,
   "id": "b01dd996",
   "metadata": {},
   "outputs": [],
   "source": [
    "naive_exp(x)"
   ]
  },
  {
   "cell_type": "code",
   "execution_count": null,
   "id": "9df43181",
   "metadata": {},
   "outputs": [],
   "source": [
    "def bit_less_naive_exp(x: np.ndarray):\n",
    "    return np.array([exp(x_i) for x_i in x])"
   ]
  },
  {
   "cell_type": "code",
   "execution_count": null,
   "id": "df833cb3",
   "metadata": {},
   "outputs": [],
   "source": [
    "bit_less_naive_exp(x)"
   ]
  },
  {
   "cell_type": "code",
   "execution_count": null,
   "id": "d2b66d37",
   "metadata": {},
   "outputs": [],
   "source": [
    "np.exp(x)"
   ]
  },
  {
   "cell_type": "code",
   "execution_count": null,
   "id": "ebacd485",
   "metadata": {},
   "outputs": [],
   "source": [
    "all(np.equal(naive_exp(x), np.exp(x)))"
   ]
  },
  {
   "cell_type": "code",
   "execution_count": null,
   "id": "5423a914",
   "metadata": {},
   "outputs": [],
   "source": [
    "all(np.equal(bit_less_naive_exp(x), np.exp(x)))"
   ]
  },
  {
   "cell_type": "code",
   "execution_count": null,
   "id": "30ced09b",
   "metadata": {},
   "outputs": [],
   "source": [
    "from timeit import timeit\n",
    "\n",
    "\n",
    "n_runs = 100000\n",
    "size = 1000\n",
    "\n",
    "\n",
    "t_naive_exp = timeit(\n",
    "    \"np.array([exp(x_i) for x_i in x])\",\n",
    "    setup=f\"import numpy as np; from math import exp; x = np.ones({size})\",\n",
    "    number=n_runs\n",
    ")\n",
    "\n",
    "t_numpy_exp = timeit(\n",
    "    \"np.exp(x)\",\n",
    "    setup=f\"import numpy as np; from math import exp; x = np.ones({size})\",\n",
    "    number=n_runs\n",
    ")\n",
    "\n",
    "\n",
    "print(f\"Built-in exponential:    \\t{t_naive_exp:.5f} s\")\n",
    "print(f\"NumPy exponential:       \\t{t_numpy_exp:.5f} s\")\n",
    "print(f\"Performance improvement: \\t{t_naive_exp/t_numpy_exp:.5f} times faster\")"
   ]
  },
  {
   "cell_type": "code",
   "execution_count": null,
   "id": "b6cc8a47",
   "metadata": {},
   "outputs": [],
   "source": [
    "def naive_sum(x: np.ndarray):\n",
    "    val = 0\n",
    "    \n",
    "    for x_i in x:\n",
    "        val += x_i\n",
    "        \n",
    "    return val"
   ]
  },
  {
   "cell_type": "code",
   "execution_count": null,
   "id": "bda3ca07",
   "metadata": {},
   "outputs": [],
   "source": [
    "naive_sum(x)"
   ]
  },
  {
   "cell_type": "code",
   "execution_count": null,
   "id": "e9fa7f64",
   "metadata": {},
   "outputs": [],
   "source": [
    "sum(x)"
   ]
  },
  {
   "cell_type": "code",
   "execution_count": null,
   "id": "2e6ff426",
   "metadata": {},
   "outputs": [],
   "source": [
    "np.sum(x)"
   ]
  },
  {
   "cell_type": "code",
   "execution_count": null,
   "id": "f456c6e0",
   "metadata": {},
   "outputs": [],
   "source": [
    "x.sum()"
   ]
  },
  {
   "cell_type": "code",
   "execution_count": null,
   "id": "5f465218",
   "metadata": {},
   "outputs": [],
   "source": [
    "t_naive_sum = timeit(\n",
    "    \"sum(x)\",\n",
    "    setup=f\"import numpy as np; x = np.ones({size})\",\n",
    "    number=n_runs\n",
    ")\n",
    "\n",
    "t_numpy_sum = timeit(\n",
    "    \"np.sum(x)\",\n",
    "    setup=f\"import numpy as np; x = np.ones({size})\",\n",
    "    number=n_runs\n",
    ")\n",
    "\n",
    "\n",
    "print(f\"Built-in sum:            \\t{t_naive_sum:.5f} s\")\n",
    "print(f\"NumPy sum:               \\t{t_numpy_sum:.5f} s\")\n",
    "print(f\"Performance improvement: \\t{t_naive_sum/t_numpy_sum:.5f} times faster\")"
   ]
  },
  {
   "cell_type": "code",
   "execution_count": null,
   "id": "143a424a",
   "metadata": {},
   "outputs": [],
   "source": [
    "np.prod(x)"
   ]
  },
  {
   "cell_type": "markdown",
   "id": "99a6652e",
   "metadata": {},
   "source": [
    "### Norms, distances, and dot products"
   ]
  },
  {
   "cell_type": "code",
   "execution_count": null,
   "id": "61b6791a",
   "metadata": {},
   "outputs": [],
   "source": [
    "def euclidean_norm(x: np.ndarray):\n",
    "    return np.sqrt(np.sum(x**2))"
   ]
  },
  {
   "cell_type": "code",
   "execution_count": null,
   "id": "16aa4069",
   "metadata": {},
   "outputs": [],
   "source": [
    "x = np.array([-3.0, 1.2, 1.2, 2.1])    # a 1D array with 4 elements, which is a vector in 4-dimensional space\n",
    "y = np.array([8.1, 6.3])               # a 1D array with 2 elements, which is a vector in 2-dimensional space"
   ]
  },
  {
   "cell_type": "code",
   "execution_count": null,
   "id": "b3aaf96a",
   "metadata": {},
   "outputs": [],
   "source": [
    "euclidean_norm(x)"
   ]
  },
  {
   "cell_type": "code",
   "execution_count": null,
   "id": "9436ce2f",
   "metadata": {},
   "outputs": [],
   "source": [
    "euclidean_norm(y)"
   ]
  },
  {
   "cell_type": "code",
   "execution_count": null,
   "id": "59231107",
   "metadata": {},
   "outputs": [],
   "source": [
    "np.linalg.norm(x)"
   ]
  },
  {
   "cell_type": "code",
   "execution_count": null,
   "id": "d987f294",
   "metadata": {},
   "outputs": [],
   "source": [
    "np.equal(euclidean_norm(x), np.linalg.norm(x))"
   ]
  },
  {
   "cell_type": "code",
   "execution_count": null,
   "id": "f6ea3cb2",
   "metadata": {},
   "outputs": [],
   "source": [
    "type(np.inf)"
   ]
  },
  {
   "cell_type": "code",
   "execution_count": null,
   "id": "b5884fa0",
   "metadata": {},
   "outputs": [],
   "source": [
    "def p_norm(x: np.ndarray, p: float):\n",
    "    if np.isinf(p):\n",
    "        return np.max(np.abs(x))\n",
    "    elif p >= 1:\n",
    "        return (np.sum(np.abs(x)**p))**(1/p)\n",
    "    else:\n",
    "        raise ValueError(\"p must be a float larger or equal than 1.0 or inf.\")"
   ]
  },
  {
   "cell_type": "code",
   "execution_count": null,
   "id": "7da08b55",
   "metadata": {},
   "outputs": [],
   "source": [
    "x = np.array([-3.0, 1.2, 1.2, 2.1])\n",
    "\n",
    "for p in [1, 2, 42, np.inf]:\n",
    "    print(f\"{p}-norm for p = {p}: \\t {p_norm(x, p=p):.5f}\")"
   ]
  },
  {
   "cell_type": "code",
   "execution_count": null,
   "id": "10f495c8",
   "metadata": {},
   "outputs": [],
   "source": [
    "for p in [1, 2, 42, np.inf]:\n",
    "    print(f\"p-norm for p = {p}: \\t {np.linalg.norm(x, ord=p):.5f}\")"
   ]
  },
  {
   "cell_type": "code",
   "execution_count": null,
   "id": "d4bba093",
   "metadata": {},
   "outputs": [],
   "source": [
    "def euclidean_distance(x: np.ndarray, y: np.ndarray):\n",
    "    return np.linalg.norm(x - y, ord=2)"
   ]
  },
  {
   "cell_type": "code",
   "execution_count": null,
   "id": "bc0ee984",
   "metadata": {},
   "outputs": [],
   "source": [
    "def dot_product(x: np.ndarray, y: np.ndarray):\n",
    "    return np.sum(x*y)"
   ]
  },
  {
   "cell_type": "code",
   "execution_count": null,
   "id": "85255e91",
   "metadata": {},
   "outputs": [],
   "source": [
    "x = np.array([-3.0, 1.2, 1.2, 2.1])\n",
    "y = np.array([1.9, 2.5, 3.9, 1.2])\n",
    "\n",
    "dot_product(x, y)"
   ]
  },
  {
   "cell_type": "code",
   "execution_count": null,
   "id": "a6f4351e",
   "metadata": {},
   "outputs": [],
   "source": [
    "x = np.array([-3.0, 1.2, 1.2, 2.1])\n",
    "y = np.array([1.9, 2.5])\n",
    "\n",
    "dot_product(x, y)"
   ]
  },
  {
   "cell_type": "code",
   "execution_count": null,
   "id": "0f985b6d",
   "metadata": {},
   "outputs": [],
   "source": [
    "x = np.array([-3.0, 1.2, 1.2, 2.1])\n",
    "y = np.array([2.0])\n",
    "\n",
    "dot_product(x, y)"
   ]
  },
  {
   "cell_type": "code",
   "execution_count": null,
   "id": "fe03f4aa",
   "metadata": {},
   "outputs": [],
   "source": [
    "x*y"
   ]
  },
  {
   "cell_type": "code",
   "execution_count": null,
   "id": "3ed658dd",
   "metadata": {},
   "outputs": [],
   "source": [
    "x = np.array([-3.0, 1.2, 1.2, 2.1])\n",
    "y = np.array([1.9, 2.5, 3.9, 1.2])\n",
    "\n",
    "np.dot(x, y)"
   ]
  },
  {
   "cell_type": "code",
   "execution_count": null,
   "id": "c3268bc1",
   "metadata": {},
   "outputs": [],
   "source": [
    "x = np.array([-3.0, 1.2, 1.2, 2.1])\n",
    "y = np.array([2.0])\n",
    "\n",
    "np.dot(x, y)"
   ]
  },
  {
   "cell_type": "markdown",
   "id": "76a362fa",
   "metadata": {},
   "source": [
    "### The Gram-Schmidt orthogonalization process"
   ]
  },
  {
   "cell_type": "code",
   "execution_count": null,
   "id": "e6b40e6b",
   "metadata": {},
   "outputs": [],
   "source": [
    "vectors = [np.random.rand(5) for _ in range(5)]    # randomly generated vectors in a list"
   ]
  },
  {
   "cell_type": "code",
   "execution_count": null,
   "id": "3552577c",
   "metadata": {},
   "outputs": [],
   "source": [
    "vectors"
   ]
  },
  {
   "cell_type": "markdown",
   "id": "742f81c9",
   "metadata": {},
   "source": [
    "The `typing` module is a standard Python library that provides support for type hints. Type hints allow you to specify the expected data types of variables, function arguments, and return values in your code. This helps with code readability, static analysis, and better editor support, but does not enforce types at runtime.\n",
    "\n",
    "**Example usage:**\n"
   ]
  },
  {
   "cell_type": "code",
   "execution_count": null,
   "id": "2bef9913",
   "metadata": {},
   "outputs": [],
   "source": [
    "from typing import List, Tuple\n",
    "\n",
    "def add_numbers(numbers: List[int]) -> int:\n",
    "    return sum(numbers)"
   ]
  },
  {
   "cell_type": "markdown",
   "id": "a27a6a71",
   "metadata": {},
   "source": [
    "\n",
    "\n",
    "Common types in the `typing` module include `List`, `Dict`, `Tuple`, `Optional`, and `Any`."
   ]
  },
  {
   "cell_type": "markdown",
   "id": "1a0a435e",
   "metadata": {},
   "source": [
    "In Python's `typing` module, `Optional[X]` is a type hint that means a value can either be of type `X` or `None`. It is just shorthand for `Union[X, None]`. For example, `Optional[int]` means the value can be an `int` or `None`. This is useful for functions that might not always return a value, like dictionary lookups that can fail."
   ]
  },
  {
   "cell_type": "code",
   "execution_count": null,
   "id": "c7093394",
   "metadata": {},
   "outputs": [],
   "source": [
    "from typing import List, Dict, Tuple, Optional\n",
    "\n",
    "# Function with type hints using typing\n",
    "def greet_all(names: List[str]) -> None:\n",
    "    for name in names:\n",
    "        print(f\"Hello, {name}!\")\n",
    "\n",
    "def get_age(people: Dict[str, int], name: str) -> Optional[int]:\n",
    "    return people.get(name)\n",
    "\n",
    "def add_coordinates(a: Tuple[int, int], b: Tuple[int, int]) -> Tuple[int, int]:\n",
    "    return (a[0] + b[0], a[1] + b[1])\n",
    "\n",
    "# Example usage\n",
    "names = [\"Alice\", \"Bob\"]\n",
    "greet_all(names)\n",
    "\n",
    "people = {\"Alice\": 30, \"Bob\": 25}\n",
    "print(get_age(people, \"Alice\"))   # 30\n",
    "print(get_age(people, \"Charlie\")) # None\n",
    "\n",
    "point1 = (2, 3)\n",
    "point2 = (4, 1)\n",
    "print(add_coordinates(point1, point2))  # (6, 4)"
   ]
  },
  {
   "cell_type": "code",
   "execution_count": null,
   "id": "6b3c8c4e",
   "metadata": {},
   "outputs": [],
   "source": [
    "from typing import List\n",
    "\n",
    "\n",
    "def projection(x: np.ndarray, to: List[np.ndarray]):\n",
    "    \"\"\"\n",
    "    Computes the orthogonal projection of the vector `x`\n",
    "    onto the subspace spanned by the set of vectors `to`.\n",
    "    \"\"\"\n",
    "    p_x = np.zeros_like(x)\n",
    "    \n",
    "    for e in to:\n",
    "        e_norm_square = np.dot(e, e)\n",
    "        p_x += np.dot(x, e)*e/e_norm_square\n",
    "        \n",
    "    return p_x"
   ]
  },
  {
   "cell_type": "code",
   "execution_count": null,
   "id": "5c3080e8",
   "metadata": {},
   "outputs": [],
   "source": [
    "x = np.array([1.0, 2.0])\n",
    "e = np.array([2.0, 1.0])\n",
    "\n",
    "x_to_e = projection(x, to=[e])"
   ]
  },
  {
   "cell_type": "code",
   "execution_count": null,
   "id": "e8af011e",
   "metadata": {
    "tags": [
     "remove-input"
    ]
   },
   "outputs": [],
   "source": [
    "import matplotlib.pyplot as plt\n",
    "\n",
    "with plt.style.context(\"seaborn-v0_8\"):\n",
    "    plt.figure(figsize=(7, 7))\n",
    "    plt.xlim([-0, 3])\n",
    "    plt.ylim([-0, 3])\n",
    "    plt.arrow(0, 0, x[0], x[1], head_width=0.1, color=\"r\", label=\"x\", linewidth=2)\n",
    "    plt.arrow(0, 0, e[0], e[1], head_width=0.1, color=\"g\", label=\"e\", linewidth=2)\n",
    "    plt.arrow(x_to_e[0], x_to_e[1], x[0] - x_to_e[0], x[1] - x_to_e[1], head_width=0.1, label = \"Quadrature component of x w.r.t. e\", linestyle=\"--\")\n",
    "    plt.arrow(0, 0, x_to_e[0], x_to_e[1], head_width=0.1, color=\"b\", label=\"projection(x, to=[e])\")\n",
    "    plt.legend()\n",
    "    plt.show()"
   ]
  },
  {
   "cell_type": "code",
   "execution_count": null,
   "id": "15f2680c",
   "metadata": {},
   "outputs": [],
   "source": [
    "np.allclose(np.dot(e, x - x_to_e), 0.0)"
   ]
  },
  {
   "cell_type": "code",
   "execution_count": null,
   "id": "accf9db9",
   "metadata": {},
   "outputs": [],
   "source": [
    "def gram_schmidt(vectors: List[np.ndarray]):\n",
    "    \"\"\"\n",
    "    Creates an orthonormal set of vectors from the input\n",
    "    that spans the same subspaces.\n",
    "    \"\"\"\n",
    "    output = []\n",
    "    \n",
    "    # 1st step: finding an orthogonal set of vectors\n",
    "    output.append(vectors[0])\n",
    "    for v in vectors[1:]:\n",
    "        v_proj = projection(v, to=output)\n",
    "        output.append(v - v_proj)\n",
    "    \n",
    "    # 2nd step: normalizing the result\n",
    "    output = [v/np.linalg.norm(v, ord=2) for v in output]\n",
    "    \n",
    "    return output "
   ]
  },
  {
   "cell_type": "code",
   "execution_count": null,
   "id": "a487d3c2",
   "metadata": {},
   "outputs": [],
   "source": [
    "gram_schmidt([np.array([2.0, 1.0, 1.0]), \n",
    "              np.array([1.0, 2.0, 1.0]),\n",
    "              np.array([1.0, 1.0, 2.0])])"
   ]
  },
  {
   "cell_type": "code",
   "execution_count": null,
   "id": "58730f39",
   "metadata": {},
   "outputs": [],
   "source": [
    "test_vectors = [np.array([1.0, 0.0, 0.0]), \n",
    "                np.array([1.0, -1.0, 0.0]),\n",
    "                np.array([1.0, 1.0, 1.0])]"
   ]
  },
  {
   "cell_type": "code",
   "execution_count": null,
   "id": "a8879e2b",
   "metadata": {},
   "outputs": [],
   "source": [
    "gram_schmidt(test_vectors)"
   ]
  },
  {
   "cell_type": "markdown",
   "id": "a2f9bdbd",
   "metadata": {},
   "source": [
    "## Matrices, the workhorses of linear algebra"
   ]
  },
  {
   "cell_type": "markdown",
   "id": "61f4e29b",
   "metadata": {},
   "source": [
    "### Matrices as arrays"
   ]
  },
  {
   "cell_type": "code",
   "execution_count": null,
   "id": "78b03ff1",
   "metadata": {},
   "outputs": [],
   "source": [
    "from typing import Tuple\n",
    "\n",
    "\n",
    "class Matrix:\n",
    "    def __init__(self, shape: Tuple[int, int]):\n",
    "        if len(shape) != 2:\n",
    "            raise ValueError(\"The shape of a Matrix object must be a two-dimensional tuple.\")\n",
    "            \n",
    "        self.shape = shape\n",
    "        self.data = [0.0 for _ in range(shape[0]*shape[1])]    \n",
    "    \n",
    "    def _linear_idx(self, i: int, j: int):\n",
    "        return i*self.shape[1] + j\n",
    "    \n",
    "    def __getitem__(self, key: Tuple[int, int]):\n",
    "        linear_idx = self._linear_idx(*key)# * is unpacking operator that allows us to pass multiple arguments as a tuple\n",
    "        return self.data[linear_idx]\n",
    "        \n",
    "    def __setitem__(self, key: Tuple[int, int], value):     \n",
    "        linear_idx = self._linear_idx(*key)\n",
    "        self.data[linear_idx] = value\n",
    "        \n",
    "    def __repr__(self):\n",
    "        array_form = [\n",
    "            [self[i, j] for j in range(self.shape[1])]\n",
    "            for i in range(self.shape[0])\n",
    "        ]\n",
    "        return \"\\n\".join([\"\\t\".join([f\"{x}\" for x in row]) for row in array_form])"
   ]
  },
  {
   "cell_type": "markdown",
   "id": "f769fd8d",
   "metadata": {},
   "source": [
    "This `Matrix` class is a custom implementation for representing a two-dimensional matrix using a flat Python list. Here’s an explanation of each method:\n",
    "\n",
    "---\n",
    "\n",
    "### `__init__(self, shape: Tuple[int, int])`\n",
    "This is the constructor.  \n",
    "- It takes a tuple `shape` (number of rows, number of columns).\n",
    "- It checks that the shape is two-dimensional.\n",
    "- It initializes `self.shape` and creates a flat list `self.data` filled with zeros, with length equal to rows × columns.\n",
    "\n",
    "---\n",
    "\n",
    "### `_linear_idx(self, i: int, j: int)`\n",
    "This is a helper method.  \n",
    "- It converts two-dimensional indices `(i, j)` into a single index for the flat list.\n",
    "- The formula is `i * number_of_columns + j`.\n",
    "\n",
    "---\n",
    "\n",
    "### `__getitem__(self, key: Tuple[int, int])`\n",
    "This method allows you to access elements using `matrix[i, j]` syntax.\n",
    "- It uses `_linear_idx` to find the correct position in the flat list.\n",
    "- Returns the value at that position.\n",
    "\n",
    "---\n",
    "\n",
    "### `__setitem__(self, key: Tuple[int, int], value)`\n",
    "This method allows you to assign values using `matrix[i, j] = value` syntax.\n",
    "- It uses `_linear_idx` to find the correct position.\n",
    "- Sets the value at that position in the flat list.\n",
    "\n",
    "---\n",
    "\n",
    "### `__repr__(self)`\n",
    "This method defines how the matrix is displayed when you print it.\n",
    "- It reconstructs the matrix as a list of lists (rows of values).\n",
    "- It joins each row into a tab-separated string, and all rows into a newline-separated string.\n",
    "\n",
    "---\n",
    "\n",
    "**Summary:**  \n",
    "Your class stores matrix data in a flat list, provides convenient access and assignment using standard indexing, and prints the matrix in a readable format."
   ]
  },
  {
   "cell_type": "code",
   "execution_count": null,
   "id": "60cfbc97",
   "metadata": {},
   "outputs": [],
   "source": [
    "M = Matrix(shape=(3, 4))"
   ]
  },
  {
   "cell_type": "code",
   "execution_count": null,
   "id": "4919760d",
   "metadata": {},
   "outputs": [],
   "source": [
    "M[1, 2] = 3.14"
   ]
  },
  {
   "cell_type": "code",
   "execution_count": null,
   "id": "ef26956b",
   "metadata": {},
   "outputs": [],
   "source": [
    "M[1, 2]"
   ]
  },
  {
   "cell_type": "code",
   "execution_count": null,
   "id": "6b176a82",
   "metadata": {},
   "outputs": [],
   "source": [
    "M"
   ]
  },
  {
   "cell_type": "markdown",
   "id": "0fdccc4e",
   "metadata": {},
   "source": [
    "Here are some useful magic (dunder) methods for Python classes:\n",
    "\n",
    "- `__init__`: Constructor, called when you create an object.\n",
    "- `__repr__`: Defines how the object is displayed (for debugging).\n",
    "- `__str__`: Defines the string representation (for `print()`).\n",
    "- `__getitem__`: Enables `obj[key]` access.\n",
    "- `__setitem__`: Enables `obj[key] = value` assignment.\n",
    "- `__len__`: Returns the length with `len(obj)`.\n",
    "- `__iter__`: Makes the object iterable (for loops).\n",
    "- `__eq__`, `__lt__`, `__gt__`, etc.: Comparison operators.\n",
    "- `__add__`, `__sub__`, `__mul__`, etc.: Arithmetic operators.\n",
    "- `__call__`: Makes the object callable like a function.\n",
    "- `__contains__`: Enables `in` checks (`x in obj`).\n",
    "\n",
    "These let you customize how your class interacts with Python’s built-in syntax and functions."
   ]
  },
  {
   "cell_type": "code",
   "execution_count": null,
   "id": "1977455f",
   "metadata": {},
   "outputs": [],
   "source": [
    "# Demo: Useful Python magic (dunder) methods in a custom class\n",
    "\n",
    "class Demo:\n",
    "    def __init__(self, items):\n",
    "        # __init__: called when you create an object\n",
    "        self.items = list(items)\n",
    "\n",
    "    def __repr__(self):\n",
    "        # __repr__: unambiguous string for debugging\n",
    "        return f\"Demo({self.items})\"\n",
    "\n",
    "    def __str__(self):\n",
    "        # __str__: readable string for print()\n",
    "        return f\"Demo with items: {self.items}\"\n",
    "\n",
    "    def __getitem__(self, index):\n",
    "        # __getitem__: enables obj[index]\n",
    "        return self.items[index]\n",
    "\n",
    "    def __setitem__(self, index, value):\n",
    "        # __setitem__: enables obj[index] = value\n",
    "        self.items[index] = value\n",
    "\n",
    "    def __len__(self):\n",
    "        # __len__: enables len(obj)\n",
    "        return len(self.items)\n",
    "\n",
    "    def __iter__(self):\n",
    "        # __iter__: enables iteration in for loops\n",
    "        return iter(self.items)\n",
    "\n",
    "    def __eq__(self, other):\n",
    "        # __eq__: enables obj1 == obj2\n",
    "        return self.items == other.items\n",
    "\n",
    "    def __add__(self, other):\n",
    "        # __add__: enables obj1 + obj2\n",
    "        return Demo(self.items + other.items)\n",
    "\n",
    "    def __call__(self, x):\n",
    "        # __call__: enables obj(x)\n",
    "        return x in self.items\n",
    "\n",
    "    def __contains__(self, x):\n",
    "        # __contains__: enables x in obj\n",
    "        return x in self.items\n",
    "\n",
    "# Usage examples\n",
    "d1 = Demo([1, 2, 3])\n",
    "d2 = Demo([4, 5])\n",
    "\n",
    "print(repr(d1))         # __repr__\n",
    "print(str(d1))          # __str__\n",
    "print(d1[1])            # __getitem__\n",
    "d1[1] = 42              # __setitem__\n",
    "print(d1.items)\n",
    "print(len(d1))          # __len__\n",
    "\n",
    "for item in d1:         # __iter__\n",
    "    print(item)\n",
    "\n",
    "print(d1 == Demo([1, 42, 3]))  # __eq__\n",
    "d3 = d1 + d2            # __add__\n",
    "print(d3)\n",
    "\n",
    "print(d1(42))           # __call__\n",
    "print(1 in d1)          #"
   ]
  },
  {
   "cell_type": "markdown",
   "id": "6c3e2330",
   "metadata": {},
   "source": [
    "### Matrices in NumPy"
   ]
  },
  {
   "cell_type": "code",
   "execution_count": null,
   "id": "c7f41f10",
   "metadata": {},
   "outputs": [],
   "source": [
    "import numpy as np\n",
    "\n",
    "A = np.array([[0, 1, 2, 3],\n",
    "              [4, 5, 6, 7],\n",
    "              [8, 9, 10, 11]])\n",
    "\n",
    "B = np.array([[5, 5, 5, 5],\n",
    "              [5, 5, 5, 5],\n",
    "              [5, 5, 5, 5]])"
   ]
  },
  {
   "cell_type": "code",
   "execution_count": null,
   "id": "a64513ca",
   "metadata": {},
   "outputs": [],
   "source": [
    "A"
   ]
  },
  {
   "cell_type": "code",
   "execution_count": null,
   "id": "8aa4ad22",
   "metadata": {},
   "outputs": [],
   "source": [
    "A + B       # pointwise addition"
   ]
  },
  {
   "cell_type": "code",
   "execution_count": null,
   "id": "cf3ffe18",
   "metadata": {},
   "outputs": [],
   "source": [
    "A*B         # pointwise multiplication"
   ]
  },
  {
   "cell_type": "code",
   "execution_count": null,
   "id": "d97714ad",
   "metadata": {},
   "outputs": [],
   "source": [
    "np.exp(A)   # pointwise application of the exponential function"
   ]
  },
  {
   "cell_type": "code",
   "execution_count": null,
   "id": "89dbb796",
   "metadata": {},
   "outputs": [],
   "source": [
    "np.transpose(A)"
   ]
  },
  {
   "cell_type": "code",
   "execution_count": null,
   "id": "7d11edfe",
   "metadata": {},
   "outputs": [],
   "source": [
    "A.T         # is the same as np.transpose(A)"
   ]
  },
  {
   "cell_type": "code",
   "execution_count": null,
   "id": "b1410226",
   "metadata": {},
   "outputs": [],
   "source": [
    "A[1, 2]    # 1st row, 2nd column (if we index rows and columns from zero)"
   ]
  },
  {
   "cell_type": "code",
   "execution_count": null,
   "id": "865c8945",
   "metadata": {},
   "outputs": [],
   "source": [
    "A[:, 2]    # 2nd column"
   ]
  },
  {
   "cell_type": "code",
   "execution_count": null,
   "id": "093ef22a",
   "metadata": {},
   "outputs": [],
   "source": [
    "A[1, :]    # 1st row"
   ]
  },
  {
   "cell_type": "code",
   "execution_count": null,
   "id": "06f3e9ca",
   "metadata": {},
   "outputs": [],
   "source": [
    "A[2, 1:4]   # 2nd row, 1st-4th elements"
   ]
  },
  {
   "cell_type": "code",
   "execution_count": null,
   "id": "4f3cca0d",
   "metadata": {},
   "outputs": [],
   "source": [
    "np.all(A[1]  == A[1,:])      # 1st row"
   ]
  },
  {
   "cell_type": "code",
   "execution_count": null,
   "id": "33dbf326",
   "metadata": {},
   "outputs": [],
   "source": [
    "for row in A:\n",
    "    print(row)"
   ]
  },
  {
   "cell_type": "code",
   "execution_count": null,
   "id": "53048013",
   "metadata": {},
   "outputs": [],
   "source": [
    "np.zeros(shape=(4, 5))"
   ]
  },
  {
   "cell_type": "code",
   "execution_count": null,
   "id": "83617ac6",
   "metadata": {},
   "outputs": [],
   "source": [
    "A = np.array([[0, 1, 2, 3],\n",
    "              [4, 5, 6, 7],\n",
    "              [8, 9, 10, 11]])"
   ]
  },
  {
   "cell_type": "code",
   "execution_count": null,
   "id": "3ebe158a",
   "metadata": {},
   "outputs": [],
   "source": [
    "A"
   ]
  },
  {
   "cell_type": "code",
   "execution_count": null,
   "id": "9c869609",
   "metadata": {},
   "outputs": [],
   "source": [
    "A.shape"
   ]
  },
  {
   "cell_type": "code",
   "execution_count": null,
   "id": "39d25c78",
   "metadata": {},
   "outputs": [],
   "source": [
    "A.reshape(6, 2)    # reshapes A into a 6 x 2 matrix"
   ]
  },
  {
   "cell_type": "code",
   "execution_count": null,
   "id": "b8fa0559",
   "metadata": {},
   "outputs": [],
   "source": [
    "A"
   ]
  },
  {
   "cell_type": "code",
   "execution_count": null,
   "id": "dc23afeb",
   "metadata": {},
   "outputs": [],
   "source": [
    "A.reshape(-1, 2)"
   ]
  },
  {
   "cell_type": "code",
   "execution_count": null,
   "id": "d936ac1f",
   "metadata": {},
   "outputs": [],
   "source": [
    "A.reshape(-1, 4)"
   ]
  },
  {
   "cell_type": "markdown",
   "id": "af9afd4f",
   "metadata": {},
   "source": [
    "### Matrix multiplication, revisited"
   ]
  },
  {
   "cell_type": "code",
   "execution_count": null,
   "id": "2bfbd502",
   "metadata": {},
   "outputs": [],
   "source": [
    "from itertools import product\n",
    "\n",
    "\n",
    "def matrix_multiplication(A: np.ndarray, B: np.ndarray):\n",
    "    # checking if multiplication is possible\n",
    "    if A.shape[1] != B.shape[0]:\n",
    "        raise ValueError(\"The number of columns in A must match the number of rows in B.\")\n",
    "    \n",
    "    # initializing an array for the product\n",
    "    AB = np.zeros(shape=(A.shape[0], B.shape[1]))\n",
    "    \n",
    "    # calculating the elements of AB\n",
    "    for i, j in product(range(A.shape[0]), range(B.shape[1])):\n",
    "        AB[i, j] = np.sum(A[i, :]*B[:, j])\n",
    "        \n",
    "    return AB"
   ]
  },
  {
   "cell_type": "markdown",
   "id": "7acfa9cc",
   "metadata": {},
   "source": [
    "`itertools` is a Python standard library module that provides fast, memory-efficient tools for creating and using iterators. It contains functions for looping, filtering, grouping, and combining data in various ways.\n",
    "\n",
    "`product` is a function in `itertools` that computes the Cartesian product of input iterables. In other words, it returns all possible pairs (or tuples) made by taking one element from each iterable. For example:\n",
    "\n"
   ]
  },
  {
   "cell_type": "code",
   "execution_count": null,
   "id": "09c03e10",
   "metadata": {},
   "outputs": [],
   "source": [
    "from itertools import product\n",
    "\n",
    "for i, j in product([1, 2], [3, 4]):\n",
    "    print(i, j)\n",
    "# Output:\n",
    "# 1 3\n",
    "# 1 4\n",
    "# 2 3\n",
    "# 2 4"
   ]
  },
  {
   "cell_type": "markdown",
   "id": "b4bf705b",
   "metadata": {},
   "source": [
    "\n",
    "\n",
    "In your matrix multiplication code, `product(range(A.shape[0]), range(B.shape[1]))` generates all possible `(i, j)` index pairs for the result matrix."
   ]
  },
  {
   "cell_type": "code",
   "execution_count": null,
   "id": "89a45f32",
   "metadata": {},
   "outputs": [],
   "source": [
    "A = np.ones(shape=(4, 6))\n",
    "B = np.ones(shape=(6, 3))"
   ]
  },
  {
   "cell_type": "code",
   "execution_count": null,
   "id": "242ec002",
   "metadata": {},
   "outputs": [],
   "source": [
    "matrix_multiplication(A, B)"
   ]
  },
  {
   "cell_type": "markdown",
   "id": "9fc7f0ec",
   "metadata": {},
   "source": [
    "Certainly! Here is a clean, copy-paste-ready cell for timing matrix multiplication methods using `timeit` and printing the results. This version avoids duplication and works in Jupyter/VS Code.\n",
    "\n"
   ]
  },
  {
   "cell_type": "code",
   "execution_count": 1,
   "id": "2c09713d",
   "metadata": {},
   "outputs": [
    {
     "name": "stdout",
     "output_type": "stream",
     "text": [
      "Timing for size = 500\n",
      "itertools.product: 4.526 s\n",
      "itertools.product: 4.526 s\n",
      "Nested loops:      3.859 s\n",
      "NumPy matmul:      0.006 s\n",
      "Nested loops:      3.859 s\n",
      "NumPy matmul:      0.006 s\n"
     ]
    }
   ],
   "source": [
    "import numpy as np\n",
    "from itertools import product\n",
    "from timeit import timeit\n",
    "\n",
    "size = 500\n",
    "A = np.random.rand(size, size)\n",
    "B = np.random.rand(size, size)\n",
    "\n",
    "def matmul_product(A, B):\n",
    "    AB = np.zeros((A.shape[0], B.shape[1]))\n",
    "    for i, j in product(range(A.shape[0]), range(B.shape[1])):\n",
    "        AB[i, j] = np.sum(A[i, :] * B[:, j])\n",
    "    return AB\n",
    "\n",
    "def matmul_nested(A, B):\n",
    "    AB = np.zeros((A.shape[0], B.shape[1]))\n",
    "    for i in range(A.shape[0]):\n",
    "        for j in range(B.shape[1]):\n",
    "            AB[i, j] = np.sum(A[i, :] * B[:, j])\n",
    "    return AB\n",
    "\n",
    "def matmul_numpy(A, B):\n",
    "    return np.matmul(A, B)\n",
    "\n",
    "print(\"Timing for size =\", size)\n",
    "t1 = timeit(lambda: matmul_product(A, B), number=1)\n",
    "print(f\"itertools.product: {t1:.3f} s\")\n",
    "\n",
    "t2 = timeit(lambda: matmul_nested(A, B), number=1)\n",
    "print(f\"Nested loops:      {t2:.3f} s\")\n",
    "\n",
    "t3 = timeit(lambda: matmul_numpy(A, B), number=1)\n",
    "print(f\"NumPy matmul:      {t3:.3f} s\")"
   ]
  },
  {
   "cell_type": "markdown",
   "id": "6846a809",
   "metadata": {},
   "source": [
    "\n",
    "\n",
    "**Instructions:**  \n",
    "- Copy and paste this code into a single cell.\n",
    "- Run the cell once.\n",
    "- If you re-run, clear the cell output first to avoid duplication."
   ]
  },
  {
   "cell_type": "code",
   "execution_count": 2,
   "id": "c619e5f2",
   "metadata": {},
   "outputs": [
    {
     "data": {
      "text/plain": [
       "array([[130.29718071, 127.4178422 , 122.81841897, ..., 128.67701029,\n",
       "        127.29609662, 127.51338182],\n",
       "       [121.48561862, 126.29667479, 120.8216118 , ..., 125.16349974,\n",
       "        120.48730888, 119.32176112],\n",
       "       [130.93349973, 128.35865088, 125.4196178 , ..., 126.56534185,\n",
       "        126.8936244 , 125.0892213 ],\n",
       "       ...,\n",
       "       [126.0360823 , 123.41109686, 120.73331034, ..., 125.15670328,\n",
       "        122.45557937, 122.35361934],\n",
       "       [124.83937607, 125.47782661, 120.93481625, ..., 123.81023888,\n",
       "        121.10746905, 124.06661132],\n",
       "       [125.40518384, 125.35212316, 120.08362453, ..., 123.44851895,\n",
       "        123.06314941, 118.82052575]], shape=(500, 500))"
      ]
     },
     "execution_count": 2,
     "metadata": {},
     "output_type": "execute_result"
    }
   ],
   "source": [
    "np.matmul(A, B)"
   ]
  },
  {
   "cell_type": "code",
   "execution_count": null,
   "id": "456a79aa",
   "metadata": {},
   "outputs": [],
   "source": [
    "for _ in range(100):\n",
    "    n, m, l = np.random.randint(1, 100), np.random.randint(1, 100), np.random.randint(1, 100)\n",
    "    A = np.random.rand(n, m)\n",
    "    B = np.random.rand(m, l)\n",
    "    \n",
    "    if not np.allclose(np.matmul(A, B), matrix_multiplication(A, B)):\n",
    "        print(f\"Result mismatch for\\n{A}\\n and\\n{B}\")\n",
    "        break\n",
    "else:\n",
    "    print(\"All good! Yay!\")"
   ]
  },
  {
   "cell_type": "code",
   "execution_count": null,
   "id": "76b3d9a3",
   "metadata": {},
   "outputs": [],
   "source": [
    "A = np.ones(shape=(4, 6))\n",
    "B = np.ones(shape=(6, 3))\n",
    "\n",
    "np.allclose(A @ B, np.matmul(A, B))"
   ]
  },
  {
   "cell_type": "markdown",
   "id": "4087571f",
   "metadata": {},
   "source": [
    "### Matrices and data"
   ]
  },
  {
   "cell_type": "code",
   "execution_count": null,
   "id": "13cfa6a7",
   "metadata": {},
   "outputs": [],
   "source": [
    "x1 = np.array([2, 0, 0, 0])       # first data point\n",
    "x2 = np.array([-1, 1, 0, 0])      # second data point\n",
    "\n",
    "A = np.array([[0, 1, 2, 3],\n",
    "              [4, 5, 6, 7],\n",
    "              [8, 9, 10, 11]])    # a feature transformation"
   ]
  },
  {
   "cell_type": "code",
   "execution_count": null,
   "id": "8f31c851",
   "metadata": {},
   "outputs": [],
   "source": [
    "A.shape"
   ]
  },
  {
   "cell_type": "code",
   "execution_count": null,
   "id": "95bdc821",
   "metadata": {},
   "outputs": [],
   "source": [
    "x1.shape"
   ]
  },
  {
   "cell_type": "code",
   "execution_count": null,
   "id": "dedbd920",
   "metadata": {},
   "outputs": [],
   "source": [
    "np.matmul(A, x1)"
   ]
  },
  {
   "cell_type": "code",
   "execution_count": null,
   "id": "3288995a",
   "metadata": {},
   "outputs": [],
   "source": [
    "np.hstack([x1, x2])    # np.hstack takes a list of np.ndarrays as its argument"
   ]
  },
  {
   "cell_type": "code",
   "execution_count": null,
   "id": "7c376bae",
   "metadata": {},
   "outputs": [],
   "source": [
    "# x.reshape(-1,1) turns x into a column vector\n",
    "data = np.hstack([x1.reshape(-1, 1), x2.reshape(-1, 1)])"
   ]
  },
  {
   "cell_type": "code",
   "execution_count": null,
   "id": "6880eda3",
   "metadata": {},
   "outputs": [],
   "source": [
    "data"
   ]
  },
  {
   "cell_type": "code",
   "execution_count": null,
   "id": "f3b37945",
   "metadata": {},
   "outputs": [],
   "source": [
    "np.matmul(A, data)"
   ]
  },
  {
   "cell_type": "markdown",
   "id": "170d33bb",
   "metadata": {},
   "source": [
    "## Problems"
   ]
  },
  {
   "cell_type": "markdown",
   "id": "d670e064",
   "metadata": {},
   "source": [
    "**Problem 3.**"
   ]
  },
  {
   "cell_type": "code",
   "execution_count": null,
   "id": "dfedd08b",
   "metadata": {},
   "outputs": [],
   "source": [
    "def p_norm(x: np.ndarray, p: float):\n",
    "    if p >= 1:\n",
    "        return (np.sum(np.abs(x)**p))**(1/p)\n",
    "    elif np.isinf(p):\n",
    "        return np.max(np.abs(x))\n",
    "    else:\n",
    "        raise ValueError(\"p must be a float larger or equal than 1.0 or inf.\")"
   ]
  }
 ],
 "metadata": {
  "kernelspec": {
   "display_name": ".venv",
   "language": "python",
   "name": "python3"
  },
  "language_info": {
   "codemirror_mode": {
    "name": "ipython",
    "version": 3
   },
   "file_extension": ".py",
   "mimetype": "text/x-python",
   "name": "python",
   "nbconvert_exporter": "python",
   "pygments_lexer": "ipython3",
   "version": "3.11.9"
  }
 },
 "nbformat": 4,
 "nbformat_minor": 5
}

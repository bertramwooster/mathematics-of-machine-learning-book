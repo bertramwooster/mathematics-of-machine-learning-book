{
 "cells": [
  {
   "cell_type": "markdown",
   "id": "1d23bbea",
   "metadata": {},
   "source": [
    "# Chapter 3. Linear algebra in practice"
   ]
  },
  {
   "cell_type": "code",
   "execution_count": 1,
   "id": "c0b40c5b",
   "metadata": {},
   "outputs": [],
   "source": [
    "import numpy as np\n",
    "\n",
    "x = np.array([1.8, -4.5, 9.2, 7.3])\n",
    "y = np.array([-5.2, -1.1, 0.7, 5.1])"
   ]
  },
  {
   "cell_type": "code",
   "execution_count": 2,
   "id": "1480b428",
   "metadata": {},
   "outputs": [],
   "source": [
    "def add(x: np.ndarray, y: np.ndarray):\n",
    "    x_plus_y = np.zeros(shape=len(x))\n",
    "    \n",
    "    for i in range(len(x_plus_y)):\n",
    "        x_plus_y[i] = x[i] + y[i]\n",
    "        \n",
    "    return x_plus_y"
   ]
  },
  {
   "cell_type": "code",
   "execution_count": 5,
   "id": "2f45dd0e",
   "metadata": {},
   "outputs": [
    {
     "data": {
      "text/plain": [
       "array([-3.4, -5.6,  9.9, 12.4])"
      ]
     },
     "execution_count": 5,
     "metadata": {},
     "output_type": "execute_result"
    }
   ],
   "source": [
    "add(x, y)\n",
    "#add?"
   ]
  },
  {
   "cell_type": "code",
   "execution_count": 6,
   "id": "cafdc716",
   "metadata": {},
   "outputs": [
    {
     "data": {
      "text/plain": [
       "array([ True,  True,  True,  True])"
      ]
     },
     "execution_count": 6,
     "metadata": {},
     "output_type": "execute_result"
    }
   ],
   "source": [
    "np.equal(x + y, add(x, y))"
   ]
  },
  {
   "cell_type": "code",
   "execution_count": 7,
   "id": "99240d81",
   "metadata": {},
   "outputs": [
    {
     "data": {
      "text/plain": [
       "False"
      ]
     },
     "execution_count": 7,
     "metadata": {},
     "output_type": "execute_result"
    }
   ],
   "source": [
    "1.0 == 0.3*3 + 0.1"
   ]
  },
  {
   "cell_type": "code",
   "execution_count": 8,
   "id": "525b033d",
   "metadata": {},
   "outputs": [
    {
     "data": {
      "text/plain": [
       "0.9999999999999999"
      ]
     },
     "execution_count": 8,
     "metadata": {},
     "output_type": "execute_result"
    }
   ],
   "source": [
    "0.3*3 + 0.1"
   ]
  },
  {
   "cell_type": "code",
   "execution_count": 9,
   "id": "891032b1",
   "metadata": {},
   "outputs": [
    {
     "data": {
      "text/plain": [
       "True"
      ]
     },
     "execution_count": 9,
     "metadata": {},
     "output_type": "execute_result"
    }
   ],
   "source": [
    "all(np.equal(x + y, add(x, y)))"
   ]
  },
  {
   "cell_type": "markdown",
   "id": "b0eabeae",
   "metadata": {},
   "source": [
    "## Vectors in NumPy"
   ]
  },
  {
   "cell_type": "code",
   "execution_count": 10,
   "id": "e1bca845",
   "metadata": {},
   "outputs": [],
   "source": [
    "def just_a_quadratic_polynomial(x):\n",
    "    return 3*x**2 + 1"
   ]
  },
  {
   "cell_type": "code",
   "execution_count": 11,
   "id": "1f635599",
   "metadata": {},
   "outputs": [
    {
     "data": {
      "text/plain": [
       "array([ 10.72,  61.75, 254.92, 160.87])"
      ]
     },
     "execution_count": 11,
     "metadata": {},
     "output_type": "execute_result"
    }
   ],
   "source": [
    "x = np.array([1.8, -4.5, 9.2, 7.3])\n",
    "just_a_quadratic_polynomial(x)"
   ]
  },
  {
   "cell_type": "code",
   "execution_count": 12,
   "id": "eb1c3329",
   "metadata": {},
   "outputs": [
    {
     "ename": "TypeError",
     "evalue": "only length-1 arrays can be converted to Python scalars",
     "output_type": "error",
     "traceback": [
      "\u001b[31m---------------------------------------------------------------------------\u001b[39m",
      "\u001b[31mTypeError\u001b[39m                                 Traceback (most recent call last)",
      "\u001b[36mCell\u001b[39m\u001b[36m \u001b[39m\u001b[32mIn[12]\u001b[39m\u001b[32m, line 3\u001b[39m\n\u001b[32m      1\u001b[39m \u001b[38;5;28;01mfrom\u001b[39;00m\u001b[38;5;250m \u001b[39m\u001b[34;01mmath\u001b[39;00m\u001b[38;5;250m \u001b[39m\u001b[38;5;28;01mimport\u001b[39;00m exp\n\u001b[32m----> \u001b[39m\u001b[32m3\u001b[39m \u001b[43mexp\u001b[49m\u001b[43m(\u001b[49m\u001b[43mx\u001b[49m\u001b[43m)\u001b[49m\n",
      "\u001b[31mTypeError\u001b[39m: only length-1 arrays can be converted to Python scalars"
     ]
    }
   ],
   "source": [
    "from math import exp\n",
    "\n",
    "exp(x)"
   ]
  },
  {
   "cell_type": "code",
   "execution_count": 13,
   "id": "349ebd94",
   "metadata": {},
   "outputs": [],
   "source": [
    "def naive_exp(x: np.ndarray):\n",
    "    x_exp = np.empty_like(x)\n",
    "    \n",
    "    for i in range(len(x)):\n",
    "        x_exp[i] = exp(x[i])\n",
    "        \n",
    "    return x_exp"
   ]
  },
  {
   "cell_type": "code",
   "execution_count": 14,
   "id": "b01dd996",
   "metadata": {},
   "outputs": [
    {
     "data": {
      "text/plain": [
       "array([6.04964746e+00, 1.11089965e-02, 9.89712906e+03, 1.48029993e+03])"
      ]
     },
     "execution_count": 14,
     "metadata": {},
     "output_type": "execute_result"
    }
   ],
   "source": [
    "naive_exp(x)"
   ]
  },
  {
   "cell_type": "code",
   "execution_count": 15,
   "id": "9df43181",
   "metadata": {},
   "outputs": [],
   "source": [
    "def bit_less_naive_exp(x: np.ndarray):\n",
    "    return np.array([exp(x_i) for x_i in x])"
   ]
  },
  {
   "cell_type": "code",
   "execution_count": 16,
   "id": "df833cb3",
   "metadata": {},
   "outputs": [
    {
     "data": {
      "text/plain": [
       "array([6.04964746e+00, 1.11089965e-02, 9.89712906e+03, 1.48029993e+03])"
      ]
     },
     "execution_count": 16,
     "metadata": {},
     "output_type": "execute_result"
    }
   ],
   "source": [
    "bit_less_naive_exp(x)"
   ]
  },
  {
   "cell_type": "code",
   "execution_count": 17,
   "id": "d2b66d37",
   "metadata": {},
   "outputs": [
    {
     "data": {
      "text/plain": [
       "array([6.04964746e+00, 1.11089965e-02, 9.89712906e+03, 1.48029993e+03])"
      ]
     },
     "execution_count": 17,
     "metadata": {},
     "output_type": "execute_result"
    }
   ],
   "source": [
    "np.exp(x)"
   ]
  },
  {
   "cell_type": "code",
   "execution_count": 18,
   "id": "ebacd485",
   "metadata": {},
   "outputs": [
    {
     "data": {
      "text/plain": [
       "True"
      ]
     },
     "execution_count": 18,
     "metadata": {},
     "output_type": "execute_result"
    }
   ],
   "source": [
    "all(np.equal(naive_exp(x), np.exp(x)))"
   ]
  },
  {
   "cell_type": "code",
   "execution_count": 19,
   "id": "5423a914",
   "metadata": {},
   "outputs": [
    {
     "data": {
      "text/plain": [
       "True"
      ]
     },
     "execution_count": 19,
     "metadata": {},
     "output_type": "execute_result"
    }
   ],
   "source": [
    "all(np.equal(bit_less_naive_exp(x), np.exp(x)))"
   ]
  },
  {
   "cell_type": "code",
   "execution_count": 20,
   "id": "30ced09b",
   "metadata": {},
   "outputs": [
    {
     "name": "stdout",
     "output_type": "stream",
     "text": [
      "Built-in exponential:    \t39.17395 s\n",
      "NumPy exponential:       \t1.88472 s\n",
      "Performance improvement: \t20.78503 times faster\n"
     ]
    }
   ],
   "source": [
    "from timeit import timeit\n",
    "\n",
    "\n",
    "n_runs = 100000\n",
    "size = 1000\n",
    "\n",
    "\n",
    "t_naive_exp = timeit(\n",
    "    \"np.array([exp(x_i) for x_i in x])\",\n",
    "    setup=f\"import numpy as np; from math import exp; x = np.ones({size})\",\n",
    "    number=n_runs\n",
    ")\n",
    "\n",
    "t_numpy_exp = timeit(\n",
    "    \"np.exp(x)\",\n",
    "    setup=f\"import numpy as np; from math import exp; x = np.ones({size})\",\n",
    "    number=n_runs\n",
    ")\n",
    "\n",
    "\n",
    "print(f\"Built-in exponential:    \\t{t_naive_exp:.5f} s\")\n",
    "print(f\"NumPy exponential:       \\t{t_numpy_exp:.5f} s\")\n",
    "print(f\"Performance improvement: \\t{t_naive_exp/t_numpy_exp:.5f} times faster\")"
   ]
  },
  {
   "cell_type": "code",
   "execution_count": 21,
   "id": "b6cc8a47",
   "metadata": {},
   "outputs": [],
   "source": [
    "def naive_sum(x: np.ndarray):\n",
    "    val = 0\n",
    "    \n",
    "    for x_i in x:\n",
    "        val += x_i\n",
    "        \n",
    "    return val"
   ]
  },
  {
   "cell_type": "code",
   "execution_count": 22,
   "id": "bda3ca07",
   "metadata": {},
   "outputs": [
    {
     "data": {
      "text/plain": [
       "np.float64(13.799999999999999)"
      ]
     },
     "execution_count": 22,
     "metadata": {},
     "output_type": "execute_result"
    }
   ],
   "source": [
    "naive_sum(x)"
   ]
  },
  {
   "cell_type": "code",
   "execution_count": 23,
   "id": "e9fa7f64",
   "metadata": {},
   "outputs": [
    {
     "data": {
      "text/plain": [
       "np.float64(13.799999999999999)"
      ]
     },
     "execution_count": 23,
     "metadata": {},
     "output_type": "execute_result"
    }
   ],
   "source": [
    "sum(x)"
   ]
  },
  {
   "cell_type": "code",
   "execution_count": 24,
   "id": "2e6ff426",
   "metadata": {},
   "outputs": [
    {
     "data": {
      "text/plain": [
       "np.float64(13.799999999999999)"
      ]
     },
     "execution_count": 24,
     "metadata": {},
     "output_type": "execute_result"
    }
   ],
   "source": [
    "np.sum(x)"
   ]
  },
  {
   "cell_type": "code",
   "execution_count": 25,
   "id": "f456c6e0",
   "metadata": {},
   "outputs": [
    {
     "data": {
      "text/plain": [
       "np.float64(13.799999999999999)"
      ]
     },
     "execution_count": 25,
     "metadata": {},
     "output_type": "execute_result"
    }
   ],
   "source": [
    "x.sum()"
   ]
  },
  {
   "cell_type": "code",
   "execution_count": 26,
   "id": "5f465218",
   "metadata": {},
   "outputs": [
    {
     "name": "stdout",
     "output_type": "stream",
     "text": [
      "Built-in sum:            \t19.33090 s\n",
      "NumPy sum:               \t1.27225 s\n",
      "Performance improvement: \t15.19428 times faster\n"
     ]
    }
   ],
   "source": [
    "t_naive_sum = timeit(\n",
    "    \"sum(x)\",\n",
    "    setup=f\"import numpy as np; x = np.ones({size})\",\n",
    "    number=n_runs\n",
    ")\n",
    "\n",
    "t_numpy_sum = timeit(\n",
    "    \"np.sum(x)\",\n",
    "    setup=f\"import numpy as np; x = np.ones({size})\",\n",
    "    number=n_runs\n",
    ")\n",
    "\n",
    "\n",
    "print(f\"Built-in sum:            \\t{t_naive_sum:.5f} s\")\n",
    "print(f\"NumPy sum:               \\t{t_numpy_sum:.5f} s\")\n",
    "print(f\"Performance improvement: \\t{t_naive_sum/t_numpy_sum:.5f} times faster\")"
   ]
  },
  {
   "cell_type": "code",
   "execution_count": 27,
   "id": "143a424a",
   "metadata": {},
   "outputs": [
    {
     "data": {
      "text/plain": [
       "np.float64(-543.996)"
      ]
     },
     "execution_count": 27,
     "metadata": {},
     "output_type": "execute_result"
    }
   ],
   "source": [
    "np.prod(x)"
   ]
  },
  {
   "cell_type": "markdown",
   "id": "99a6652e",
   "metadata": {},
   "source": [
    "### Norms, distances, and dot products"
   ]
  },
  {
   "cell_type": "code",
   "execution_count": 28,
   "id": "61b6791a",
   "metadata": {},
   "outputs": [],
   "source": [
    "def euclidean_norm(x: np.ndarray):\n",
    "    return np.sqrt(np.sum(x**2))"
   ]
  },
  {
   "cell_type": "code",
   "execution_count": 29,
   "id": "16aa4069",
   "metadata": {},
   "outputs": [],
   "source": [
    "x = np.array([-3.0, 1.2, 1.2, 2.1])    # a 1D array with 4 elements, which is a vector in 4-dimensional space\n",
    "y = np.array([8.1, 6.3])               # a 1D array with 2 elements, which is a vector in 2-dimensional space"
   ]
  },
  {
   "cell_type": "code",
   "execution_count": 30,
   "id": "b3aaf96a",
   "metadata": {},
   "outputs": [
    {
     "data": {
      "text/plain": [
       "np.float64(4.036087214122113)"
      ]
     },
     "execution_count": 30,
     "metadata": {},
     "output_type": "execute_result"
    }
   ],
   "source": [
    "euclidean_norm(x)"
   ]
  },
  {
   "cell_type": "code",
   "execution_count": 31,
   "id": "9436ce2f",
   "metadata": {},
   "outputs": [
    {
     "data": {
      "text/plain": [
       "np.float64(10.261578825892242)"
      ]
     },
     "execution_count": 31,
     "metadata": {},
     "output_type": "execute_result"
    }
   ],
   "source": [
    "euclidean_norm(y)"
   ]
  },
  {
   "cell_type": "code",
   "execution_count": 32,
   "id": "59231107",
   "metadata": {},
   "outputs": [
    {
     "data": {
      "text/plain": [
       "np.float64(4.036087214122113)"
      ]
     },
     "execution_count": 32,
     "metadata": {},
     "output_type": "execute_result"
    }
   ],
   "source": [
    "np.linalg.norm(x)"
   ]
  },
  {
   "cell_type": "code",
   "execution_count": 33,
   "id": "d987f294",
   "metadata": {},
   "outputs": [
    {
     "data": {
      "text/plain": [
       "np.True_"
      ]
     },
     "execution_count": 33,
     "metadata": {},
     "output_type": "execute_result"
    }
   ],
   "source": [
    "np.equal(euclidean_norm(x), np.linalg.norm(x))"
   ]
  },
  {
   "cell_type": "code",
   "execution_count": 34,
   "id": "f6ea3cb2",
   "metadata": {},
   "outputs": [
    {
     "data": {
      "text/plain": [
       "float"
      ]
     },
     "execution_count": 34,
     "metadata": {},
     "output_type": "execute_result"
    }
   ],
   "source": [
    "type(np.inf)"
   ]
  },
  {
   "cell_type": "code",
   "execution_count": 35,
   "id": "b5884fa0",
   "metadata": {},
   "outputs": [],
   "source": [
    "def p_norm(x: np.ndarray, p: float):\n",
    "    if np.isinf(p):\n",
    "        return np.max(np.abs(x))\n",
    "    elif p >= 1:\n",
    "        return (np.sum(np.abs(x)**p))**(1/p)\n",
    "    else:\n",
    "        raise ValueError(\"p must be a float larger or equal than 1.0 or inf.\")"
   ]
  },
  {
   "cell_type": "code",
   "execution_count": 37,
   "id": "7da08b55",
   "metadata": {},
   "outputs": [
    {
     "name": "stdout",
     "output_type": "stream",
     "text": [
      "1-norm for p = 1: \t 7.50000\n",
      "2-norm for p = 2: \t 4.03609\n",
      "42-norm for p = 42: \t 3.00000\n",
      "inf-norm for p = inf: \t 3.00000\n"
     ]
    }
   ],
   "source": [
    "x = np.array([-3.0, 1.2, 1.2, 2.1])\n",
    "\n",
    "for p in [1, 2, 42, np.inf]:\n",
    "    print(f\"{p}-norm for p = {p}: \\t {p_norm(x, p=p):.5f}\")"
   ]
  },
  {
   "cell_type": "code",
   "execution_count": 38,
   "id": "10f495c8",
   "metadata": {},
   "outputs": [
    {
     "name": "stdout",
     "output_type": "stream",
     "text": [
      "p-norm for p = 1: \t 7.50000\n",
      "p-norm for p = 2: \t 4.03609\n",
      "p-norm for p = 42: \t 3.00000\n",
      "p-norm for p = inf: \t 3.00000\n"
     ]
    }
   ],
   "source": [
    "for p in [1, 2, 42, np.inf]:\n",
    "    print(f\"p-norm for p = {p}: \\t {np.linalg.norm(x, ord=p):.5f}\")"
   ]
  },
  {
   "cell_type": "code",
   "execution_count": 39,
   "id": "d4bba093",
   "metadata": {},
   "outputs": [],
   "source": [
    "def euclidean_distance(x: np.ndarray, y: np.ndarray):\n",
    "    return np.linalg.norm(x - y, ord=2)"
   ]
  },
  {
   "cell_type": "code",
   "execution_count": 40,
   "id": "bc0ee984",
   "metadata": {},
   "outputs": [],
   "source": [
    "def dot_product(x: np.ndarray, y: np.ndarray):\n",
    "    return np.sum(x*y)"
   ]
  },
  {
   "cell_type": "code",
   "execution_count": 41,
   "id": "85255e91",
   "metadata": {},
   "outputs": [
    {
     "data": {
      "text/plain": [
       "np.float64(4.5)"
      ]
     },
     "execution_count": 41,
     "metadata": {},
     "output_type": "execute_result"
    }
   ],
   "source": [
    "x = np.array([-3.0, 1.2, 1.2, 2.1])\n",
    "y = np.array([1.9, 2.5, 3.9, 1.2])\n",
    "\n",
    "dot_product(x, y)"
   ]
  },
  {
   "cell_type": "code",
   "execution_count": 42,
   "id": "a6f4351e",
   "metadata": {},
   "outputs": [
    {
     "ename": "ValueError",
     "evalue": "operands could not be broadcast together with shapes (4,) (2,) ",
     "output_type": "error",
     "traceback": [
      "\u001b[31m---------------------------------------------------------------------------\u001b[39m",
      "\u001b[31mValueError\u001b[39m                                Traceback (most recent call last)",
      "\u001b[36mCell\u001b[39m\u001b[36m \u001b[39m\u001b[32mIn[42]\u001b[39m\u001b[32m, line 4\u001b[39m\n\u001b[32m      1\u001b[39m x = np.array([-\u001b[32m3.0\u001b[39m, \u001b[32m1.2\u001b[39m, \u001b[32m1.2\u001b[39m, \u001b[32m2.1\u001b[39m])\n\u001b[32m      2\u001b[39m y = np.array([\u001b[32m1.9\u001b[39m, \u001b[32m2.5\u001b[39m])\n\u001b[32m----> \u001b[39m\u001b[32m4\u001b[39m \u001b[43mdot_product\u001b[49m\u001b[43m(\u001b[49m\u001b[43mx\u001b[49m\u001b[43m,\u001b[49m\u001b[43m \u001b[49m\u001b[43my\u001b[49m\u001b[43m)\u001b[49m\n",
      "\u001b[36mCell\u001b[39m\u001b[36m \u001b[39m\u001b[32mIn[40]\u001b[39m\u001b[32m, line 2\u001b[39m, in \u001b[36mdot_product\u001b[39m\u001b[34m(x, y)\u001b[39m\n\u001b[32m      1\u001b[39m \u001b[38;5;28;01mdef\u001b[39;00m\u001b[38;5;250m \u001b[39m\u001b[34mdot_product\u001b[39m(x: np.ndarray, y: np.ndarray):\n\u001b[32m----> \u001b[39m\u001b[32m2\u001b[39m     \u001b[38;5;28;01mreturn\u001b[39;00m np.sum(\u001b[43mx\u001b[49m\u001b[43m*\u001b[49m\u001b[43my\u001b[49m)\n",
      "\u001b[31mValueError\u001b[39m: operands could not be broadcast together with shapes (4,) (2,) "
     ]
    }
   ],
   "source": [
    "x = np.array([-3.0, 1.2, 1.2, 2.1])\n",
    "y = np.array([1.9, 2.5])\n",
    "\n",
    "dot_product(x, y)"
   ]
  },
  {
   "cell_type": "code",
   "execution_count": 43,
   "id": "0f985b6d",
   "metadata": {},
   "outputs": [
    {
     "data": {
      "text/plain": [
       "np.float64(3.0)"
      ]
     },
     "execution_count": 43,
     "metadata": {},
     "output_type": "execute_result"
    }
   ],
   "source": [
    "x = np.array([-3.0, 1.2, 1.2, 2.1])\n",
    "y = np.array([2.0])\n",
    "\n",
    "dot_product(x, y)"
   ]
  },
  {
   "cell_type": "code",
   "execution_count": 44,
   "id": "fe03f4aa",
   "metadata": {},
   "outputs": [
    {
     "data": {
      "text/plain": [
       "array([-6. ,  2.4,  2.4,  4.2])"
      ]
     },
     "execution_count": 44,
     "metadata": {},
     "output_type": "execute_result"
    }
   ],
   "source": [
    "x*y"
   ]
  },
  {
   "cell_type": "code",
   "execution_count": 42,
   "id": "3ed658dd",
   "metadata": {},
   "outputs": [
    {
     "data": {
      "text/plain": [
       "np.float64(4.5)"
      ]
     },
     "execution_count": 42,
     "metadata": {},
     "output_type": "execute_result"
    }
   ],
   "source": [
    "x = np.array([-3.0, 1.2, 1.2, 2.1])\n",
    "y = np.array([1.9, 2.5, 3.9, 1.2])\n",
    "\n",
    "np.dot(x, y)"
   ]
  },
  {
   "cell_type": "code",
   "execution_count": 43,
   "id": "c3268bc1",
   "metadata": {},
   "outputs": [
    {
     "ename": "ValueError",
     "evalue": "shapes (4,) and (1,) not aligned: 4 (dim 0) != 1 (dim 0)",
     "output_type": "error",
     "traceback": [
      "\u001b[31m---------------------------------------------------------------------------\u001b[39m",
      "\u001b[31mValueError\u001b[39m                                Traceback (most recent call last)",
      "\u001b[36mCell\u001b[39m\u001b[36m \u001b[39m\u001b[32mIn[43]\u001b[39m\u001b[32m, line 4\u001b[39m\n\u001b[32m      1\u001b[39m x = np.array([-\u001b[32m3.0\u001b[39m, \u001b[32m1.2\u001b[39m, \u001b[32m1.2\u001b[39m, \u001b[32m2.1\u001b[39m])\n\u001b[32m      2\u001b[39m y = np.array([\u001b[32m2.0\u001b[39m])\n\u001b[32m----> \u001b[39m\u001b[32m4\u001b[39m \u001b[43mnp\u001b[49m\u001b[43m.\u001b[49m\u001b[43mdot\u001b[49m\u001b[43m(\u001b[49m\u001b[43mx\u001b[49m\u001b[43m,\u001b[49m\u001b[43m \u001b[49m\u001b[43my\u001b[49m\u001b[43m)\u001b[49m\n",
      "\u001b[31mValueError\u001b[39m: shapes (4,) and (1,) not aligned: 4 (dim 0) != 1 (dim 0)"
     ]
    }
   ],
   "source": [
    "x = np.array([-3.0, 1.2, 1.2, 2.1])\n",
    "y = np.array([2.0])\n",
    "\n",
    "np.dot(x, y)"
   ]
  },
  {
   "cell_type": "markdown",
   "id": "76a362fa",
   "metadata": {},
   "source": [
    "### The Gram-Schmidt orthogonalization process"
   ]
  },
  {
   "cell_type": "code",
   "execution_count": 2,
   "id": "e6b40e6b",
   "metadata": {},
   "outputs": [],
   "source": [
    "vectors = [np.random.rand(5) for _ in range(5)]    # randomly generated vectors in a list"
   ]
  },
  {
   "cell_type": "code",
   "execution_count": 3,
   "id": "3552577c",
   "metadata": {},
   "outputs": [
    {
     "data": {
      "text/plain": [
       "[array([0.49276873, 0.84961173, 0.86465808, 0.03224744, 0.55289966]),\n",
       " array([0.08263477, 0.30261691, 0.73553123, 0.47365583, 0.46103409]),\n",
       " array([0.14446583, 0.29914898, 0.32368674, 0.98126787, 0.08842038]),\n",
       " array([0.13786606, 0.28672992, 0.7431273 , 0.43572576, 0.4764825 ]),\n",
       " array([0.42611872, 0.07216558, 0.12656595, 0.34269418, 0.26771025])]"
      ]
     },
     "execution_count": 3,
     "metadata": {},
     "output_type": "execute_result"
    }
   ],
   "source": [
    "vectors"
   ]
  },
  {
   "cell_type": "markdown",
   "id": "742f81c9",
   "metadata": {},
   "source": [
    "The `typing` module is a standard Python library that provides support for type hints. Type hints allow you to specify the expected data types of variables, function arguments, and return values in your code. This helps with code readability, static analysis, and better editor support, but does not enforce types at runtime.\n",
    "\n",
    "**Example usage:**\n"
   ]
  },
  {
   "cell_type": "code",
   "execution_count": 4,
   "id": "2bef9913",
   "metadata": {},
   "outputs": [],
   "source": [
    "from typing import List, Tuple\n",
    "\n",
    "def add_numbers(numbers: List[int]) -> int:\n",
    "    return sum(numbers)"
   ]
  },
  {
   "cell_type": "markdown",
   "id": "a27a6a71",
   "metadata": {},
   "source": [
    "\n",
    "\n",
    "Common types in the `typing` module include `List`, `Dict`, `Tuple`, `Optional`, and `Any`."
   ]
  },
  {
   "cell_type": "markdown",
   "id": "1a0a435e",
   "metadata": {},
   "source": [
    "In Python's `typing` module, `Optional[X]` is a type hint that means a value can either be of type `X` or `None`. It is just shorthand for `Union[X, None]`. For example, `Optional[int]` means the value can be an `int` or `None`. This is useful for functions that might not always return a value, like dictionary lookups that can fail."
   ]
  },
  {
   "cell_type": "code",
   "execution_count": 5,
   "id": "c7093394",
   "metadata": {},
   "outputs": [
    {
     "name": "stdout",
     "output_type": "stream",
     "text": [
      "Hello, Alice!\n",
      "Hello, Bob!\n",
      "30\n",
      "None\n",
      "(6, 4)\n"
     ]
    }
   ],
   "source": [
    "from typing import List, Dict, Tuple, Optional\n",
    "\n",
    "# Function with type hints using typing\n",
    "def greet_all(names: List[str]) -> None:\n",
    "    for name in names:\n",
    "        print(f\"Hello, {name}!\")\n",
    "\n",
    "def get_age(people: Dict[str, int], name: str) -> Optional[int]:\n",
    "    return people.get(name)\n",
    "\n",
    "def add_coordinates(a: Tuple[int, int], b: Tuple[int, int]) -> Tuple[int, int]:\n",
    "    return (a[0] + b[0], a[1] + b[1])\n",
    "\n",
    "# Example usage\n",
    "names = [\"Alice\", \"Bob\"]\n",
    "greet_all(names)\n",
    "\n",
    "people = {\"Alice\": 30, \"Bob\": 25}\n",
    "print(get_age(people, \"Alice\"))   # 30\n",
    "print(get_age(people, \"Charlie\")) # None\n",
    "\n",
    "point1 = (2, 3)\n",
    "point2 = (4, 1)\n",
    "print(add_coordinates(point1, point2))  # (6, 4)"
   ]
  },
  {
   "cell_type": "code",
   "execution_count": 6,
   "id": "6b3c8c4e",
   "metadata": {},
   "outputs": [],
   "source": [
    "from typing import List\n",
    "\n",
    "\n",
    "def projection(x: np.ndarray, to: List[np.ndarray]):\n",
    "    \"\"\"\n",
    "    Computes the orthogonal projection of the vector `x`\n",
    "    onto the subspace spanned by the set of vectors `to`.\n",
    "    \"\"\"\n",
    "    p_x = np.zeros_like(x)\n",
    "    \n",
    "    for e in to:\n",
    "        e_norm_square = np.dot(e, e)\n",
    "        p_x += np.dot(x, e)*e/e_norm_square\n",
    "        \n",
    "    return p_x"
   ]
  },
  {
   "cell_type": "code",
   "execution_count": 7,
   "id": "5c3080e8",
   "metadata": {},
   "outputs": [],
   "source": [
    "x = np.array([1.0, 2.0])\n",
    "e = np.array([2.0, 1.0])\n",
    "\n",
    "x_to_e = projection(x, to=[e])"
   ]
  },
  {
   "cell_type": "code",
   "execution_count": 8,
   "id": "e8af011e",
   "metadata": {
    "tags": [
     "remove-input"
    ]
   },
   "outputs": [
    {
     "data": {
      "image/png": "[encoded data removed]",
      "text/plain": [
       "<Figure size 700x700 with 1 Axes>"
      ]
     },
     "metadata": {},
     "output_type": "display_data"
    }
   ],
   "source": [
    "import matplotlib.pyplot as plt\n",
    "\n",
    "with plt.style.context(\"seaborn-v0_8\"):\n",
    "    plt.figure(figsize=(7, 7))\n",
    "    plt.xlim([-0, 3])\n",
    "    plt.ylim([-0, 3])\n",
    "    plt.arrow(0, 0, x[0], x[1], head_width=0.1, color=\"r\", label=\"x\", linewidth=2)\n",
    "    plt.arrow(0, 0, e[0], e[1], head_width=0.1, color=\"g\", label=\"e\", linewidth=2)\n",
    "    plt.arrow(x_to_e[0], x_to_e[1], x[0] - x_to_e[0], x[1] - x_to_e[1], head_width=0.1, label = \"Quadrature component of x w.r.t. e\", linestyle=\"--\")\n",
    "    plt.arrow(0, 0, x_to_e[0], x_to_e[1], head_width=0.1, color=\"b\", label=\"projection(x, to=[e])\")\n",
    "    plt.legend()\n",
    "    plt.show()"
   ]
  },
  {
   "cell_type": "code",
   "execution_count": 24,
   "id": "15f2680c",
   "metadata": {},
   "outputs": [
    {
     "data": {
      "text/plain": [
       "True"
      ]
     },
     "execution_count": 24,
     "metadata": {},
     "output_type": "execute_result"
    }
   ],
   "source": [
    "np.allclose(np.dot(e, x - x_to_e), 0.0)"
   ]
  },
  {
   "cell_type": "code",
   "execution_count": 9,
   "id": "accf9db9",
   "metadata": {},
   "outputs": [],
   "source": [
    "def gram_schmidt(vectors: List[np.ndarray]):\n",
    "    \"\"\"\n",
    "    Creates an orthonormal set of vectors from the input\n",
    "    that spans the same subspaces.\n",
    "    \"\"\"\n",
    "    output = []\n",
    "    \n",
    "    # 1st step: finding an orthogonal set of vectors\n",
    "    output.append(vectors[0])\n",
    "    for v in vectors[1:]:\n",
    "        v_proj = projection(v, to=output)\n",
    "        output.append(v - v_proj)\n",
    "    \n",
    "    # 2nd step: normalizing the result\n",
    "    output = [v/np.linalg.norm(v, ord=2) for v in output]\n",
    "    \n",
    "    return output "
   ]
  },
  {
   "cell_type": "code",
   "execution_count": 10,
   "id": "a487d3c2",
   "metadata": {},
   "outputs": [
    {
     "data": {
      "text/plain": [
       "[array([0.81649658, 0.40824829, 0.40824829]),\n",
       " array([-0.49236596,  0.86164044,  0.12309149]),\n",
       " array([-0.30151134, -0.30151134,  0.90453403])]"
      ]
     },
     "execution_count": 10,
     "metadata": {},
     "output_type": "execute_result"
    }
   ],
   "source": [
    "gram_schmidt([np.array([2.0, 1.0, 1.0]), \n",
    "              np.array([1.0, 2.0, 1.0]),\n",
    "              np.array([1.0, 1.0, 2.0])])"
   ]
  },
  {
   "cell_type": "code",
   "execution_count": 11,
   "id": "58730f39",
   "metadata": {},
   "outputs": [],
   "source": [
    "test_vectors = [np.array([1.0, 0.0, 0.0]), \n",
    "                np.array([1.0, -1.0, 0.0]),\n",
    "                np.array([1.0, 1.0, 1.0])]"
   ]
  },
  {
   "cell_type": "code",
   "execution_count": 12,
   "id": "a8879e2b",
   "metadata": {},
   "outputs": [
    {
     "data": {
      "text/plain": [
       "[array([1., 0., 0.]), array([ 0., -1.,  0.]), array([0., 0., 1.])]"
      ]
     },
     "execution_count": 12,
     "metadata": {},
     "output_type": "execute_result"
    }
   ],
   "source": [
    "gram_schmidt(test_vectors)"
   ]
  },
  {
   "cell_type": "markdown",
   "id": "a2f9bdbd",
   "metadata": {},
   "source": [
    "## Matrices, the workhorses of linear algebra"
   ]
  },
  {
   "cell_type": "markdown",
   "id": "61f4e29b",
   "metadata": {},
   "source": [
    "### Matrices as arrays"
   ]
  },
  {
   "cell_type": "code",
   "execution_count": 14,
   "id": "78b03ff1",
   "metadata": {},
   "outputs": [],
   "source": [
    "from typing import Tuple\n",
    "\n",
    "\n",
    "class Matrix:\n",
    "    def __init__(self, shape: Tuple[int, int]):\n",
    "        if len(shape) != 2:\n",
    "            raise ValueError(\"The shape of a Matrix object must be a two-dimensional tuple.\")\n",
    "            \n",
    "        self.shape = shape\n",
    "        self.data = [0.0 for _ in range(shape[0]*shape[1])]    \n",
    "    \n",
    "    def _linear_idx(self, i: int, j: int):\n",
    "        return i*self.shape[1] + j\n",
    "    \n",
    "    def __getitem__(self, key: Tuple[int, int]):\n",
    "        linear_idx = self._linear_idx(*key)# * is unpacking operator that allows us to pass multiple arguments as a tuple\n",
    "        return self.data[linear_idx]\n",
    "        \n",
    "    def __setitem__(self, key: Tuple[int, int], value):     \n",
    "        linear_idx = self._linear_idx(*key)\n",
    "        self.data[linear_idx] = value\n",
    "        \n",
    "    def __repr__(self):\n",
    "        array_form = [\n",
    "            [self[i, j] for j in range(self.shape[1])]\n",
    "            for i in range(self.shape[0])\n",
    "        ]\n",
    "        return \"\\n\".join([\"\\t\".join([f\"{x}\" for x in row]) for row in array_form])"
   ]
  },
  {
   "cell_type": "markdown",
   "id": "f769fd8d",
   "metadata": {},
   "source": [
    "This `Matrix` class is a custom implementation for representing a two-dimensional matrix using a flat Python list. Here’s an explanation of each method:\n",
    "\n",
    "---\n",
    "\n",
    "### `__init__(self, shape: Tuple[int, int])`\n",
    "This is the constructor.  \n",
    "- It takes a tuple `shape` (number of rows, number of columns).\n",
    "- It checks that the shape is two-dimensional.\n",
    "- It initializes `self.shape` and creates a flat list `self.data` filled with zeros, with length equal to rows × columns.\n",
    "\n",
    "---\n",
    "\n",
    "### `_linear_idx(self, i: int, j: int)`\n",
    "This is a helper method.  \n",
    "- It converts two-dimensional indices `(i, j)` into a single index for the flat list.\n",
    "- The formula is `i * number_of_columns + j`.\n",
    "\n",
    "---\n",
    "\n",
    "### `__getitem__(self, key: Tuple[int, int])`\n",
    "This method allows you to access elements using `matrix[i, j]` syntax.\n",
    "- It uses `_linear_idx` to find the correct position in the flat list.\n",
    "- Returns the value at that position.\n",
    "\n",
    "---\n",
    "\n",
    "### `__setitem__(self, key: Tuple[int, int], value)`\n",
    "This method allows you to assign values using `matrix[i, j] = value` syntax.\n",
    "- It uses `_linear_idx` to find the correct position.\n",
    "- Sets the value at that position in the flat list.\n",
    "\n",
    "---\n",
    "\n",
    "### `__repr__(self)`\n",
    "This method defines how the matrix is displayed when you print it.\n",
    "- It reconstructs the matrix as a list of lists (rows of values).\n",
    "- It joins each row into a tab-separated string, and all rows into a newline-separated string.\n",
    "\n",
    "---\n",
    "\n",
    "**Summary:**  \n",
    "Your class stores matrix data in a flat list, provides convenient access and assignment using standard indexing, and prints the matrix in a readable format."
   ]
  },
  {
   "cell_type": "code",
   "execution_count": 15,
   "id": "60cfbc97",
   "metadata": {},
   "outputs": [],
   "source": [
    "M = Matrix(shape=(3, 4))"
   ]
  },
  {
   "cell_type": "code",
   "execution_count": 16,
   "id": "4919760d",
   "metadata": {},
   "outputs": [],
   "source": [
    "M[1, 2] = 3.14"
   ]
  },
  {
   "cell_type": "code",
   "execution_count": 17,
   "id": "ef26956b",
   "metadata": {},
   "outputs": [
    {
     "data": {
      "text/plain": [
       "3.14"
      ]
     },
     "execution_count": 17,
     "metadata": {},
     "output_type": "execute_result"
    }
   ],
   "source": [
    "M[1, 2]"
   ]
  },
  {
   "cell_type": "code",
   "execution_count": 18,
   "id": "6b176a82",
   "metadata": {},
   "outputs": [
    {
     "data": {
      "text/plain": [
       "0.0\t0.0\t0.0\t0.0\n",
       "0.0\t0.0\t3.14\t0.0\n",
       "0.0\t0.0\t0.0\t0.0"
      ]
     },
     "execution_count": 18,
     "metadata": {},
     "output_type": "execute_result"
    }
   ],
   "source": [
    "M"
   ]
  },
  {
   "cell_type": "markdown",
   "id": "0fdccc4e",
   "metadata": {},
   "source": [
    "Here are some useful magic (dunder) methods for Python classes:\n",
    "\n",
    "- `__init__`: Constructor, called when you create an object.\n",
    "- `__repr__`: Defines how the object is displayed (for debugging).\n",
    "- `__str__`: Defines the string representation (for `print()`).\n",
    "- `__getitem__`: Enables `obj[key]` access.\n",
    "- `__setitem__`: Enables `obj[key] = value` assignment.\n",
    "- `__len__`: Returns the length with `len(obj)`.\n",
    "- `__iter__`: Makes the object iterable (for loops).\n",
    "- `__eq__`, `__lt__`, `__gt__`, etc.: Comparison operators.\n",
    "- `__add__`, `__sub__`, `__mul__`, etc.: Arithmetic operators.\n",
    "- `__call__`: Makes the object callable like a function.\n",
    "- `__contains__`: Enables `in` checks (`x in obj`).\n",
    "\n",
    "These let you customize how your class interacts with Python’s built-in syntax and functions."
   ]
  },
  {
   "cell_type": "code",
   "execution_count": 19,
   "id": "1977455f",
   "metadata": {},
   "outputs": [
    {
     "name": "stdout",
     "output_type": "stream",
     "text": [
      "Demo([1, 2, 3])\n",
      "Demo with items: [1, 2, 3]\n",
      "2\n",
      "[1, 42, 3]\n",
      "3\n",
      "1\n",
      "42\n",
      "3\n",
      "True\n",
      "Demo with items: [1, 42, 3, 4, 5]\n",
      "True\n",
      "True\n"
     ]
    }
   ],
   "source": [
    "# Demo: Useful Python magic (dunder) methods in a custom class\n",
    "\n",
    "class Demo:\n",
    "    def __init__(self, items):\n",
    "        # __init__: called when you create an object\n",
    "        self.items = list(items)\n",
    "\n",
    "    def __repr__(self):\n",
    "        # __repr__: unambiguous string for debugging\n",
    "        return f\"Demo({self.items})\"\n",
    "\n",
    "    def __str__(self):\n",
    "        # __str__: readable string for print()\n",
    "        return f\"Demo with items: {self.items}\"\n",
    "\n",
    "    def __getitem__(self, index):\n",
    "        # __getitem__: enables obj[index]\n",
    "        return self.items[index]\n",
    "\n",
    "    def __setitem__(self, index, value):\n",
    "        # __setitem__: enables obj[index] = value\n",
    "        self.items[index] = value\n",
    "\n",
    "    def __len__(self):\n",
    "        # __len__: enables len(obj)\n",
    "        return len(self.items)\n",
    "\n",
    "    def __iter__(self):\n",
    "        # __iter__: enables iteration in for loops\n",
    "        return iter(self.items)\n",
    "\n",
    "    def __eq__(self, other):\n",
    "        # __eq__: enables obj1 == obj2\n",
    "        return self.items == other.items\n",
    "\n",
    "    def __add__(self, other):\n",
    "        # __add__: enables obj1 + obj2\n",
    "        return Demo(self.items + other.items)\n",
    "\n",
    "    def __call__(self, x):\n",
    "        # __call__: enables obj(x)\n",
    "        return x in self.items\n",
    "\n",
    "    def __contains__(self, x):\n",
    "        # __contains__: enables x in obj\n",
    "        return x in self.items\n",
    "\n",
    "# Usage examples\n",
    "d1 = Demo([1, 2, 3])\n",
    "d2 = Demo([4, 5])\n",
    "\n",
    "print(repr(d1))         # __repr__\n",
    "print(str(d1))          # __str__\n",
    "print(d1[1])            # __getitem__\n",
    "d1[1] = 42              # __setitem__\n",
    "print(d1.items)\n",
    "print(len(d1))          # __len__\n",
    "\n",
    "for item in d1:         # __iter__\n",
    "    print(item)\n",
    "\n",
    "print(d1 == Demo([1, 42, 3]))  # __eq__\n",
    "d3 = d1 + d2            # __add__\n",
    "print(d3)\n",
    "\n",
    "print(d1(42))           # __call__\n",
    "print(1 in d1)          #"
   ]
  },
  {
   "cell_type": "markdown",
   "id": "6c3e2330",
   "metadata": {},
   "source": [
    "### Matrices in NumPy"
   ]
  },
  {
   "cell_type": "code",
   "execution_count": 20,
   "id": "c7f41f10",
   "metadata": {},
   "outputs": [],
   "source": [
    "import numpy as np\n",
    "\n",
    "A = np.array([[0, 1, 2, 3],\n",
    "              [4, 5, 6, 7],\n",
    "              [8, 9, 10, 11]])\n",
    "\n",
    "B = np.array([[5, 5, 5, 5],\n",
    "              [5, 5, 5, 5],\n",
    "              [5, 5, 5, 5]])"
   ]
  },
  {
   "cell_type": "code",
   "execution_count": 21,
   "id": "a64513ca",
   "metadata": {},
   "outputs": [
    {
     "data": {
      "text/plain": [
       "array([[ 0,  1,  2,  3],\n",
       "       [ 4,  5,  6,  7],\n",
       "       [ 8,  9, 10, 11]])"
      ]
     },
     "execution_count": 21,
     "metadata": {},
     "output_type": "execute_result"
    }
   ],
   "source": [
    "A"
   ]
  },
  {
   "cell_type": "code",
   "execution_count": 22,
   "id": "8aa4ad22",
   "metadata": {},
   "outputs": [
    {
     "data": {
      "text/plain": [
       "array([[ 5,  6,  7,  8],\n",
       "       [ 9, 10, 11, 12],\n",
       "       [13, 14, 15, 16]])"
      ]
     },
     "execution_count": 22,
     "metadata": {},
     "output_type": "execute_result"
    }
   ],
   "source": [
    "A + B       # pointwise addition"
   ]
  },
  {
   "cell_type": "code",
   "execution_count": 23,
   "id": "cf3ffe18",
   "metadata": {},
   "outputs": [
    {
     "data": {
      "text/plain": [
       "array([[ 0,  5, 10, 15],\n",
       "       [20, 25, 30, 35],\n",
       "       [40, 45, 50, 55]])"
      ]
     },
     "execution_count": 23,
     "metadata": {},
     "output_type": "execute_result"
    }
   ],
   "source": [
    "A*B         # pointwise multiplication"
   ]
  },
  {
   "cell_type": "code",
   "execution_count": 24,
   "id": "d97714ad",
   "metadata": {},
   "outputs": [
    {
     "data": {
      "text/plain": [
       "array([[1.00000000e+00, 2.71828183e+00, 7.38905610e+00, 2.00855369e+01],\n",
       "       [5.45981500e+01, 1.48413159e+02, 4.03428793e+02, 1.09663316e+03],\n",
       "       [2.98095799e+03, 8.10308393e+03, 2.20264658e+04, 5.98741417e+04]])"
      ]
     },
     "execution_count": 24,
     "metadata": {},
     "output_type": "execute_result"
    }
   ],
   "source": [
    "np.exp(A)   # pointwise application of the exponential function"
   ]
  },
  {
   "cell_type": "code",
   "execution_count": 25,
   "id": "89dbb796",
   "metadata": {},
   "outputs": [
    {
     "data": {
      "text/plain": [
       "array([[ 0,  4,  8],\n",
       "       [ 1,  5,  9],\n",
       "       [ 2,  6, 10],\n",
       "       [ 3,  7, 11]])"
      ]
     },
     "execution_count": 25,
     "metadata": {},
     "output_type": "execute_result"
    }
   ],
   "source": [
    "np.transpose(A)"
   ]
  },
  {
   "cell_type": "code",
   "execution_count": 26,
   "id": "7d11edfe",
   "metadata": {},
   "outputs": [
    {
     "data": {
      "text/plain": [
       "array([[ 0,  4,  8],\n",
       "       [ 1,  5,  9],\n",
       "       [ 2,  6, 10],\n",
       "       [ 3,  7, 11]])"
      ]
     },
     "execution_count": 26,
     "metadata": {},
     "output_type": "execute_result"
    }
   ],
   "source": [
    "A.T         # is the same as np.transpose(A)"
   ]
  },
  {
   "cell_type": "code",
   "execution_count": 27,
   "id": "b1410226",
   "metadata": {},
   "outputs": [
    {
     "data": {
      "text/plain": [
       "np.int64(6)"
      ]
     },
     "execution_count": 27,
     "metadata": {},
     "output_type": "execute_result"
    }
   ],
   "source": [
    "A[1, 2]    # 1st row, 2nd column (if we index rows and columns from zero)"
   ]
  },
  {
   "cell_type": "code",
   "execution_count": 28,
   "id": "865c8945",
   "metadata": {},
   "outputs": [
    {
     "data": {
      "text/plain": [
       "array([ 2,  6, 10])"
      ]
     },
     "execution_count": 28,
     "metadata": {},
     "output_type": "execute_result"
    }
   ],
   "source": [
    "A[:, 2]    # 2nd column"
   ]
  },
  {
   "cell_type": "code",
   "execution_count": 29,
   "id": "093ef22a",
   "metadata": {},
   "outputs": [
    {
     "data": {
      "text/plain": [
       "array([4, 5, 6, 7])"
      ]
     },
     "execution_count": 29,
     "metadata": {},
     "output_type": "execute_result"
    }
   ],
   "source": [
    "A[1, :]    # 1st row"
   ]
  },
  {
   "cell_type": "code",
   "execution_count": 69,
   "id": "06f3e9ca",
   "metadata": {},
   "outputs": [
    {
     "data": {
      "text/plain": [
       "array([ 9, 10, 11])"
      ]
     },
     "execution_count": 69,
     "metadata": {},
     "output_type": "execute_result"
    }
   ],
   "source": [
    "A[2, 1:4]   # 2nd row, 1st-4th elements"
   ]
  },
  {
   "cell_type": "code",
   "execution_count": 33,
   "id": "4f3cca0d",
   "metadata": {},
   "outputs": [
    {
     "data": {
      "text/plain": [
       "np.True_"
      ]
     },
     "execution_count": 33,
     "metadata": {},
     "output_type": "execute_result"
    }
   ],
   "source": [
    "np.all(A[1]  == A[1,:])      # 1st row"
   ]
  },
  {
   "cell_type": "code",
   "execution_count": 34,
   "id": "33dbf326",
   "metadata": {},
   "outputs": [
    {
     "name": "stdout",
     "output_type": "stream",
     "text": [
      "[0 1 2 3]\n",
      "[4 5 6 7]\n",
      "[ 8  9 10 11]\n"
     ]
    }
   ],
   "source": [
    "for row in A:\n",
    "    print(row)"
   ]
  },
  {
   "cell_type": "code",
   "execution_count": 72,
   "id": "53048013",
   "metadata": {},
   "outputs": [
    {
     "data": {
      "text/plain": [
       "array([[0., 0., 0., 0., 0.],\n",
       "       [0., 0., 0., 0., 0.],\n",
       "       [0., 0., 0., 0., 0.],\n",
       "       [0., 0., 0., 0., 0.]])"
      ]
     },
     "execution_count": 72,
     "metadata": {},
     "output_type": "execute_result"
    }
   ],
   "source": [
    "np.zeros(shape=(4, 5))"
   ]
  },
  {
   "cell_type": "code",
   "execution_count": 35,
   "id": "83617ac6",
   "metadata": {},
   "outputs": [],
   "source": [
    "A = np.array([[0, 1, 2, 3],\n",
    "              [4, 5, 6, 7],\n",
    "              [8, 9, 10, 11]])"
   ]
  },
  {
   "cell_type": "code",
   "execution_count": 74,
   "id": "3ebe158a",
   "metadata": {},
   "outputs": [
    {
     "data": {
      "text/plain": [
       "array([[ 0,  1,  2,  3],\n",
       "       [ 4,  5,  6,  7],\n",
       "       [ 8,  9, 10, 11]])"
      ]
     },
     "execution_count": 74,
     "metadata": {},
     "output_type": "execute_result"
    }
   ],
   "source": [
    "A"
   ]
  },
  {
   "cell_type": "code",
   "execution_count": 36,
   "id": "9c869609",
   "metadata": {},
   "outputs": [
    {
     "data": {
      "text/plain": [
       "(3, 4)"
      ]
     },
     "execution_count": 36,
     "metadata": {},
     "output_type": "execute_result"
    }
   ],
   "source": [
    "A.shape"
   ]
  },
  {
   "cell_type": "code",
   "execution_count": 37,
   "id": "39d25c78",
   "metadata": {},
   "outputs": [
    {
     "data": {
      "text/plain": [
       "array([[ 0,  1],\n",
       "       [ 2,  3],\n",
       "       [ 4,  5],\n",
       "       [ 6,  7],\n",
       "       [ 8,  9],\n",
       "       [10, 11]])"
      ]
     },
     "execution_count": 37,
     "metadata": {},
     "output_type": "execute_result"
    }
   ],
   "source": [
    "A.reshape(6, 2)    # reshapes A into a 6 x 2 matrix"
   ]
  },
  {
   "cell_type": "code",
   "execution_count": 41,
   "id": "b8fa0559",
   "metadata": {},
   "outputs": [
    {
     "data": {
      "text/plain": [
       "array([[ 0,  1,  2,  3],\n",
       "       [ 4,  5,  6,  7],\n",
       "       [ 8,  9, 10, 11]])"
      ]
     },
     "execution_count": 41,
     "metadata": {},
     "output_type": "execute_result"
    }
   ],
   "source": [
    "A"
   ]
  },
  {
   "cell_type": "code",
   "execution_count": 39,
   "id": "dc23afeb",
   "metadata": {},
   "outputs": [
    {
     "data": {
      "text/plain": [
       "array([[ 0,  1],\n",
       "       [ 2,  3],\n",
       "       [ 4,  5],\n",
       "       [ 6,  7],\n",
       "       [ 8,  9],\n",
       "       [10, 11]])"
      ]
     },
     "execution_count": 39,
     "metadata": {},
     "output_type": "execute_result"
    }
   ],
   "source": [
    "A.reshape(-1, 2)"
   ]
  },
  {
   "cell_type": "code",
   "execution_count": 40,
   "id": "d936ac1f",
   "metadata": {},
   "outputs": [
    {
     "data": {
      "text/plain": [
       "array([[ 0,  1,  2,  3],\n",
       "       [ 4,  5,  6,  7],\n",
       "       [ 8,  9, 10, 11]])"
      ]
     },
     "execution_count": 40,
     "metadata": {},
     "output_type": "execute_result"
    }
   ],
   "source": [
    "A.reshape(-1, 4)"
   ]
  },
  {
   "cell_type": "markdown",
   "id": "af9afd4f",
   "metadata": {},
   "source": [
    "### Matrix multiplication, revisited"
   ]
  },
  {
   "cell_type": "code",
   "execution_count": 80,
   "id": "2bfbd502",
   "metadata": {},
   "outputs": [],
   "source": [
    "from itertools import product\n",
    "\n",
    "\n",
    "def matrix_multiplication(A: np.ndarray, B: np.ndarray):\n",
    "    # checking if multiplication is possible\n",
    "    if A.shape[1] != B.shape[0]:\n",
    "        raise ValueError(\"The number of columns in A must match the number of rows in B.\")\n",
    "    \n",
    "    # initializing an array for the product\n",
    "    AB = np.zeros(shape=(A.shape[0], B.shape[1]))\n",
    "    \n",
    "    # calculating the elements of AB\n",
    "    for i, j in product(range(A.shape[0]), range(B.shape[1])):\n",
    "        AB[i, j] = np.sum(A[i, :]*B[:, j])\n",
    "        \n",
    "    return AB"
   ]
  },
  {
   "cell_type": "code",
   "execution_count": 81,
   "id": "89a45f32",
   "metadata": {},
   "outputs": [],
   "source": [
    "A = np.ones(shape=(4, 6))\n",
    "B = np.ones(shape=(6, 3))"
   ]
  },
  {
   "cell_type": "code",
   "execution_count": 82,
   "id": "242ec002",
   "metadata": {},
   "outputs": [
    {
     "data": {
      "text/plain": [
       "array([[6., 6., 6.],\n",
       "       [6., 6., 6.],\n",
       "       [6., 6., 6.],\n",
       "       [6., 6., 6.]])"
      ]
     },
     "execution_count": 82,
     "metadata": {},
     "output_type": "execute_result"
    }
   ],
   "source": [
    "matrix_multiplication(A, B)"
   ]
  },
  {
   "cell_type": "code",
   "execution_count": 83,
   "id": "c619e5f2",
   "metadata": {},
   "outputs": [
    {
     "data": {
      "text/plain": [
       "array([[6., 6., 6.],\n",
       "       [6., 6., 6.],\n",
       "       [6., 6., 6.],\n",
       "       [6., 6., 6.]])"
      ]
     },
     "execution_count": 83,
     "metadata": {},
     "output_type": "execute_result"
    }
   ],
   "source": [
    "np.matmul(A, B)"
   ]
  },
  {
   "cell_type": "code",
   "execution_count": 84,
   "id": "456a79aa",
   "metadata": {},
   "outputs": [
    {
     "name": "stdout",
     "output_type": "stream",
     "text": [
      "All good! Yay!\n"
     ]
    }
   ],
   "source": [
    "for _ in range(100):\n",
    "    n, m, l = np.random.randint(1, 100), np.random.randint(1, 100), np.random.randint(1, 100)\n",
    "    A = np.random.rand(n, m)\n",
    "    B = np.random.rand(m, l)\n",
    "    \n",
    "    if not np.allclose(np.matmul(A, B), matrix_multiplication(A, B)):\n",
    "        print(f\"Result mismatch for\\n{A}\\n and\\n{B}\")\n",
    "        break\n",
    "else:\n",
    "    print(\"All good! Yay!\")"
   ]
  },
  {
   "cell_type": "code",
   "execution_count": 85,
   "id": "76b3d9a3",
   "metadata": {},
   "outputs": [
    {
     "data": {
      "text/plain": [
       "True"
      ]
     },
     "execution_count": 85,
     "metadata": {},
     "output_type": "execute_result"
    }
   ],
   "source": [
    "A = np.ones(shape=(4, 6))\n",
    "B = np.ones(shape=(6, 3))\n",
    "\n",
    "np.allclose(A @ B, np.matmul(A, B))"
   ]
  },
  {
   "cell_type": "markdown",
   "id": "4087571f",
   "metadata": {},
   "source": [
    "### Matrices and data"
   ]
  },
  {
   "cell_type": "code",
   "execution_count": 86,
   "id": "13cfa6a7",
   "metadata": {},
   "outputs": [],
   "source": [
    "x1 = np.array([2, 0, 0, 0])       # first data point\n",
    "x2 = np.array([-1, 1, 0, 0])      # second data point\n",
    "\n",
    "A = np.array([[0, 1, 2, 3],\n",
    "              [4, 5, 6, 7],\n",
    "              [8, 9, 10, 11]])    # a feature transformation"
   ]
  },
  {
   "cell_type": "code",
   "execution_count": 87,
   "id": "8f31c851",
   "metadata": {},
   "outputs": [
    {
     "data": {
      "text/plain": [
       "(3, 4)"
      ]
     },
     "execution_count": 87,
     "metadata": {},
     "output_type": "execute_result"
    }
   ],
   "source": [
    "A.shape"
   ]
  },
  {
   "cell_type": "code",
   "execution_count": 88,
   "id": "95bdc821",
   "metadata": {},
   "outputs": [
    {
     "data": {
      "text/plain": [
       "(4,)"
      ]
     },
     "execution_count": 88,
     "metadata": {},
     "output_type": "execute_result"
    }
   ],
   "source": [
    "x1.shape"
   ]
  },
  {
   "cell_type": "code",
   "execution_count": 89,
   "id": "dedbd920",
   "metadata": {},
   "outputs": [
    {
     "data": {
      "text/plain": [
       "array([ 0,  8, 16])"
      ]
     },
     "execution_count": 89,
     "metadata": {},
     "output_type": "execute_result"
    }
   ],
   "source": [
    "np.matmul(A, x1)"
   ]
  },
  {
   "cell_type": "code",
   "execution_count": 90,
   "id": "3288995a",
   "metadata": {},
   "outputs": [
    {
     "data": {
      "text/plain": [
       "array([ 2,  0,  0,  0, -1,  1,  0,  0])"
      ]
     },
     "execution_count": 90,
     "metadata": {},
     "output_type": "execute_result"
    }
   ],
   "source": [
    "np.hstack([x1, x2])    # np.hstack takes a list of np.ndarrays as its argument"
   ]
  },
  {
   "cell_type": "code",
   "execution_count": 91,
   "id": "7c376bae",
   "metadata": {},
   "outputs": [],
   "source": [
    "# x.reshape(-1,1) turns x into a column vector\n",
    "data = np.hstack([x1.reshape(-1, 1), x2.reshape(-1, 1)])"
   ]
  },
  {
   "cell_type": "code",
   "execution_count": 92,
   "id": "6880eda3",
   "metadata": {},
   "outputs": [
    {
     "data": {
      "text/plain": [
       "array([[ 2, -1],\n",
       "       [ 0,  1],\n",
       "       [ 0,  0],\n",
       "       [ 0,  0]])"
      ]
     },
     "execution_count": 92,
     "metadata": {},
     "output_type": "execute_result"
    }
   ],
   "source": [
    "data"
   ]
  },
  {
   "cell_type": "code",
   "execution_count": 93,
   "id": "f3b37945",
   "metadata": {},
   "outputs": [
    {
     "data": {
      "text/plain": [
       "array([[ 0,  1],\n",
       "       [ 8,  1],\n",
       "       [16,  1]])"
      ]
     },
     "execution_count": 93,
     "metadata": {},
     "output_type": "execute_result"
    }
   ],
   "source": [
    "np.matmul(A, data)"
   ]
  },
  {
   "cell_type": "markdown",
   "id": "170d33bb",
   "metadata": {},
   "source": [
    "## Problems"
   ]
  },
  {
   "cell_type": "markdown",
   "id": "d670e064",
   "metadata": {},
   "source": [
    "**Problem 3.**"
   ]
  },
  {
   "cell_type": "code",
   "execution_count": 94,
   "id": "dfedd08b",
   "metadata": {},
   "outputs": [],
   "source": [
    "def p_norm(x: np.ndarray, p: float):\n",
    "    if p >= 1:\n",
    "        return (np.sum(np.abs(x)**p))**(1/p)\n",
    "    elif np.isinf(p):\n",
    "        return np.max(np.abs(x))\n",
    "    else:\n",
    "        raise ValueError(\"p must be a float larger or equal than 1.0 or inf.\")"
   ]
  }
 ],
 "metadata": {
  "kernelspec": {
   "display_name": ".venv",
   "language": "python",
   "name": "python3"
  },
  "language_info": {
   "codemirror_mode": {
    "name": "ipython",
    "version": 3
   },
   "file_extension": ".py",
   "mimetype": "text/x-python",
   "name": "python",
   "nbconvert_exporter": "python",
   "pygments_lexer": "ipython3",
   "version": "3.11.9"
  }
 },
 "nbformat": 4,
 "nbformat_minor": 5
}
